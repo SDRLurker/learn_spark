{
 "cells": [
  {
   "cell_type": "code",
   "execution_count": 1,
   "metadata": {
    "collapsed": false
   },
   "outputs": [],
   "source": [
    "import findspark\n",
    "findspark.init()\n",
    "import pyspark\n",
    "sc = pyspark.SparkContext()"
   ]
  },
  {
   "cell_type": "markdown",
   "metadata": {},
   "source": [
    "#### 2.1.5.17 join\n",
    "\n",
    "두 RDD에서 서로 같은 키를 가지고 있는 요소를 모아 그룹을 형성. 이 결과로 구성된 새로운 RDD를 생성.\n",
    "\n",
    "Tuple(키, Tuple(첫번째 RDD의 요소, 두번째 RDD의 요소)) 형태로 구성.\n",
    "\n",
    "스칼라\n",
    "<pre>\n",
    "    val rdd1 = sc.parallelize(List(\"a\", \"b\", \"c\", \"d\", \"e\")).map((_, 1))\n",
    "    val rdd2 = sc.parallelize(List(\"b\", \"c\")).map((_, 2))\n",
    "    val result = rdd1.join(rdd2)\n",
    "    println(result.collect.mkString(\"\\n\"))\n",
    "</pre>\n",
    "\n",
    "자바\n",
    "<code>\n",
    "    List&lt;Tuple2&lt;String, Integer&gt;&gt; data1 = Arrays.asList(new Tuple2(\"a\", 1), new Tuple2(\"b\", 1), new Tuple2(\"c\", 1), new Tuple2(\"d\", 1), new Tuple2(\"e\", 1));\n",
    "    List&lt;Tuple2&lt;String, Integer&gt;&gt; data2 = Arrays.asList(new Tuple2(\"b\", 2), new Tuple2(\"c\", 2));\n",
    "    \n",
    "    JavaPairRDD&lt;String, Integer&gt; rdd1 = sc.parallelizePairs(data1);\n",
    "    JavaPairRDD&lt;String, Integer&gt; rdd2 = sc.parallelizePairs(data2);\n",
    "    \n",
    "    JavaPairRDD&lt;String, Tuple2&lt;Integer, Integer&gt;&gt; result = rdd1.&lt;Integer&gt;join(rdd2);\n",
    "    System.out.println(result.collect());\n",
    "</code>"
   ]
  },
  {
   "cell_type": "code",
   "execution_count": 2,
   "metadata": {
    "collapsed": false
   },
   "outputs": [
    {
     "name": "stdout",
     "output_type": "stream",
     "text": [
      "[('c', (1, 2)), ('b', (1, 2))]\n"
     ]
    }
   ],
   "source": [
    "# 파이썬\n",
    "rdd1 = sc.parallelize([\"a\", \"b\", \"c\", \"d\", \"e\"]).map(lambda v: (v, 1), 1)\n",
    "rdd2 = sc.parallelize([\"b\", \"c\"]).map(lambda v: (v, 2), 1)\n",
    "result = rdd1.join(rdd2)\n",
    "print(result.collect())"
   ]
  },
  {
   "cell_type": "code",
   "execution_count": 3,
   "metadata": {
    "collapsed": false
   },
   "outputs": [
    {
     "name": "stdout",
     "output_type": "stream",
     "text": [
      "[('c', (2, 1)), ('b', (2, 1))]\n"
     ]
    }
   ],
   "source": [
    "# 파이썬\n",
    "rdd1 = sc.parallelize([\"a\", \"b\", \"c\", \"d\", \"e\"]).map(lambda v: (v, 1))\n",
    "rdd2 = sc.parallelize([\"b\", \"c\"]).map(lambda v: (v, 2))\n",
    "result = rdd2.join(rdd1)\n",
    "print(result.collect())"
   ]
  },
  {
   "cell_type": "markdown",
   "metadata": {},
   "source": [
    "#### 2.1.5.18 leftOuterJoin, rightOuterJoin\n",
    "\n",
    "왼쪽 외부 조인과 오른쪽 외부 조인을 수행하고, 그 결과로 구성된 새로운 RDD를 돌려줌.\n",
    "\n",
    "catesian() 메서드의 실행 결과에는 나타나지 않았던 요소들이 포함.\n",
    "\n",
    "스칼라\n",
    "<pre>\n",
    "    val rdd1 = sc.parallelize(List(\"a\", \"b\", \"c\")).map((_, 1))\n",
    "    val rdd2 = sc.parallelize(List(\"b\", \"c\")).map((_, 2))\n",
    "    val result1 = rdd1.leftOuterJoin(rdd2)\n",
    "    val result2 = rdd1.rightOuterJoin(rdd2)\n",
    "    println(\"Left: \" + result1.collect.mkString(\"\\t\"))\n",
    "    println(\"Right: \" + result2.collect.mkString(\"\\t\"))\n",
    "</pre>\n",
    "\n",
    "자바\n",
    "<pre>\n",
    "    List&lt;Tuple2&lt;String, Integer&gt;&gt; data1 = Arrays.asList(new Tuple2(\"a\", 1), new Tuple2(\"b\", \"1\"), new Tuple2(\"c\", \"1\"));\n",
    "    List&lt;Tuple2&lt;String, Integer&gt;&gt; data2 = Arrays.asList(new Tuple2(\"b\", 2), new Tuple2(\"c\", \"2\"));\n",
    "\n",
    "    JavaPairRDD&lt;String, Integer&gt; rdd1 = sc.parallelizePairs(data1);\n",
    "    JavaPairRDD&lt;String, Integer&gt; rdd2 = sc.parallelizePairs(data2);\n",
    "\n",
    "    JavaPairRDD&lt;String, Tuple2&lt;Integer, Optional&lt;Integer&gt;&gt;&gt; result1 = rdd1.&lt;Integer&gt;leftOuterJoin(rdd2);\n",
    "    JavaPairRDD&lt;String, Tuple2&lt;Optional&lt;Integer&gt;, Integer&gt;&gt; result2 = rdd1.&lt;Integer&gt;rightOuterJoin(rdd2);\n",
    "    System.out.println(\"Left: \" + result1.collect());\n",
    "    System.out.println(\"Right: \" + result2.collect());\n",
    "</pre>"
   ]
  },
  {
   "cell_type": "code",
   "execution_count": 4,
   "metadata": {
    "collapsed": false
   },
   "outputs": [
    {
     "name": "stdout",
     "output_type": "stream",
     "text": [
      "Left: [('a', (1, None)), ('c', (1, 2)), ('b', (1, 2))]\n",
      "Right: [('c', (1, 2)), ('b', (1, 2))]\n"
     ]
    }
   ],
   "source": [
    "# 파이썬\n",
    "rdd1 = sc.parallelize([\"a\", \"b\", \"c\"]).map(lambda v: (v, 1))\n",
    "rdd2 = sc.parallelize([\"b\", \"c\"]).map(lambda v: (v, 2))\n",
    "result1 = rdd1.leftOuterJoin(rdd2)\n",
    "result2 = rdd1.rightOuterJoin(rdd2)\n",
    "print(\"Left: %s\" % result1.collect())\n",
    "print(\"Right: %s\" % result2.collect())"
   ]
  },
  {
   "cell_type": "markdown",
   "metadata": {},
   "source": [
    "#### 2.1.5.19 subtractByKey\n",
    "\n",
    "rdd1.subtractByKey(rdd2)는 rdd1의 요소 중에서 rdd2에 같은 키가 존재하는 요소를 제외한 나머지로 구성된 새로운 RDD를 돌려줌.\n",
    "\n",
    "스칼라\n",
    "<pre>\n",
    "    val rdd1 = sc.parallelize(List(\"a\", \"b\")).map((_, 1))\n",
    "    val rdd2 = sc.parallelize(List(\"b\")).map((_, 2))\n",
    "    val result = rdd1.subtractByKey(rdd2)\n",
    "    println(result.collect.mkString(\"\\n\"))\n",
    "</pre>\n",
    "\n",
    "자바\n",
    "<pre>\n",
    "    List&lt;Tuple2&lt;String, Integer&gt;&gt; data1 = Arrays.asList(new Tuple2(\"a\", 1), new Tuple2(\"b\", 1));\n",
    "    List&lt;Tuple2&lt;String, Integer&gt;&gt; data2 = Arrays.asList(new Tuple2(\"b\", 2));\n",
    "    \n",
    "    JavaPairRDD&lt;String, Integer&gt; rdd1 = sc.parallelizePairs(data1);\n",
    "    JavaPairRDD&lt;String, Integer&gt; rdd2 = sc.parallelizePairs(data2);\n",
    "    \n",
    "    JavaPairRDD&lt;String, Integer&gt; result = rdd1.subtractByKey(rdd2);\n",
    "    System.out.println(result.collect());\n",
    "</pre>"
   ]
  },
  {
   "cell_type": "code",
   "execution_count": 5,
   "metadata": {
    "collapsed": false
   },
   "outputs": [
    {
     "name": "stdout",
     "output_type": "stream",
     "text": [
      "[('a', 1)]\n"
     ]
    }
   ],
   "source": [
    "# 파이썬\n",
    "rdd1 = sc.parallelize([\"a\", \"b\"]).map(lambda v: (v, 1))\n",
    "rdd2 = sc.parallelize([\"b\"]).map(lambda v: (v, 2))\n",
    "result = rdd1.subtractByKey(rdd2)\n",
    "print(result.collect())"
   ]
  },
  {
   "cell_type": "markdown",
   "metadata": {},
   "source": [
    "#### 2.1.5.20 reduceByKey\n",
    "\n",
    "같은 키를 가진 값들을 하나로 병합해 키-값 쌍으로 구성된 새로운 RDD를 생성.\n",
    "\n",
    "두 개의 값을 하나로 합치는 함수를 인자로 전달 받으며 이 함수는 결합법칙과 교환법칙이 성립해야 함.\n",
    "\n",
    "스칼라\n",
    "<pre>\n",
    "    val rdd = sc.parallelize(List(\"a\", \"b\", \"b\")).map((_, 1))\n",
    "    val result = rdd.reduceByKey(_ + _)\n",
    "    println(result.collect.mkString(\",\"))\n",
    "</pre>\n",
    "\n",
    "자바\n",
    "<pre>\n",
    "    List&lt;Tuple2&lt;String, Integer&gt;&gt; data = Arrays.asList(new Tuple2(\"a\", 1), new Tuple2(\"b\", 1), new Tuple2(\"b\", 1));\n",
    "\n",
    "    JavaPairRDD&lt;String, Integer&gt; rdd = sc.parallelizePairs(data);\n",
    "\n",
    "    // Java7\n",
    "    JavaPairRDD&lt;String, Integer&gt; result = rdd.reduceByKey(new Function2&lt;Integer, Integer, Integer&gt;() {\n",
    "      @Override\n",
    "      public Integer call(Integer v1, Integer v2) throws Exception {\n",
    "        return v1 + v2;\n",
    "      }\n",
    "    });\n",
    "\n",
    "    // Java8 Lambda\n",
    "    JavaPairRDD&lt;String, Integer&gt; result2 = rdd.reduceByKey((Integer v1, Integer v2) -&gt; v1 + v2);\n",
    "    System.out.println(result.collect());\n",
    "</pre>"
   ]
  },
  {
   "cell_type": "code",
   "execution_count": 6,
   "metadata": {
    "collapsed": false
   },
   "outputs": [
    {
     "name": "stdout",
     "output_type": "stream",
     "text": [
      "[('b', 2), ('a', 1)]\n"
     ]
    }
   ],
   "source": [
    "# 파이썬\n",
    "rdd = sc.parallelize([\"a\", \"b\", \"b\"]).map(lambda v: (v, 1))\n",
    "result = rdd.reduceByKey(lambda v1, v2: v1 + v2)\n",
    "print(result.collect())"
   ]
  },
  {
   "cell_type": "markdown",
   "metadata": {},
   "source": [
    "* RDD의 트랜스포메이션 메서드에는 데이터 처리 과정에서 사용할 파티셔너와 파티션 개수를 지정할 수 있는 옵션 존재."
   ]
  },
  {
   "cell_type": "markdown",
   "metadata": {},
   "source": [
    "#### 2.1.5.21 foldByKey\n",
    "\n",
    "reduceByKey와 유사하게 같은 키를 가진 값들을 하나로 병합해 키-값 쌍으로 구성된 새로운 RDD를 생성.\n",
    "\n",
    "초기값을 메서드의 인자로 전달해서 병합 시 사용가능.\n",
    "\n",
    "각 단위 병합 단계에서 결과에 영향이 없는 값을 초기값으로 사용하므로 이 함수는 교환법칙만 만족하면 사용가능.\n",
    "\n",
    "스칼라\n",
    "<pre>\n",
    "    val rdd = sc.parallelize(List(\"a\", \"b\", \"b\")).map((_, 1))\n",
    "    val result = rdd.foldByKey(0)(_ + _)\n",
    "    println(result.collect.mkString(\",\"))\n",
    "</pre>\n",
    "\n",
    "자바\n",
    "<pre>\n",
    "    List&lt;Tuple2&lt;String, Integer&gt;&gt; data = Arrays.asList(new Tuple2(\"a\", 1), new Tuple2(\"b\", 1), new Tuple2(\"b\", 1));\n",
    "\n",
    "    JavaPairRDD&lt;String, Integer&gt; rdd = sc.parallelizePairs(data);\n",
    "\n",
    "    // Java7\n",
    "    JavaPairRDD&lt;String, Integer&gt; result = rdd.foldByKey(0, new Function2&lt;Integer, Integer, Integer&gt;() {\n",
    "      @Override\n",
    "      public Integer call(Integer v1, Integer v2) throws Exception {\n",
    "        return v1 + v2;\n",
    "      }\n",
    "    });\n",
    "\n",
    "    // Java8 Lambda\n",
    "    JavaPairRDD&lt;String, Integer&gt; result2 = rdd.foldByKey(0, (Integer v1, Integer v2) -&gt; v1 + v2);\n",
    "    System.out.println(result.collect());\n",
    "</pre>"
   ]
  },
  {
   "cell_type": "code",
   "execution_count": 7,
   "metadata": {
    "collapsed": false
   },
   "outputs": [
    {
     "name": "stdout",
     "output_type": "stream",
     "text": [
      "[('b', 2), ('a', 1)]\n"
     ]
    }
   ],
   "source": [
    "# 파이썬\n",
    "rdd = sc.parallelize([\"a\", \"b\", \"b\"]).map(lambda v: (v, 1))\n",
    "result = rdd.foldByKey(0, lambda v1, v2: v1 + v2)\n",
    "print(result.collect())"
   ]
  },
  {
   "cell_type": "markdown",
   "metadata": {},
   "source": [
    "#### 2.1.5.22 combineByKey\n",
    "\n",
    "같은 키를 가진 값들을 하나로 병합하는 기능을 수행. 병합을 수행하는 과정에서 값의 타입이 바뀔 수 있음.\n",
    "\n",
    "기존 병합 함수의 스칼라 API\n",
    "<pre>\n",
    "def reduceByKey(func: (V, V) => V): RDD[(K, V)]\n",
    "def foldByKey(zerovalue: V)(func: (V, V) => V): RDD[(K, V)]\n",
    "</pre>\n",
    "\n",
    "combineByKey 스칼라 API, C는 클래스\n",
    "<pre>\n",
    "def combineByKey[C](createCombiner: (V) => C, mergeValue: (C, V), mergeCombiners: (C, C) => C): RDD[(K, C)]\n",
    "</pre>\n",
    "\n",
    "인자로 지정된 3개의 함수 의미\n",
    "* createCombiner() : 값을 병합하기 위한 콤바이너를 생성. 두 개의 값을 하나로 병합하는 객체. 각 키별로 생성됨.\n",
    "* mergeValue() : 키에 대한 콤바이너가 이미 존재한다면 이 함수를 이용해 값을 기존 콤바이너에 병합.\n",
    "* createCombiner(), mergeValue()는 파티션 단위로 수행\n",
    "* mergeCombiners() : 병합이 끝난 콤바이너끼리 다시 병합을 수행해 최종 콤바이너를 생성. 최종 결과를 생성함.\n",
    "\n",
    "스칼라\n",
    "<pre>\n",
    "case class Record(var amount: Long, var number: Long = 1) {\n",
    "    def map(v: Long) = Record(v)\n",
    "    def add(amount: Long): Record = {\n",
    "        add(map(amount))\n",
    "     }\n",
    "    def add(other: Record): Record = {\n",
    "        this.number += other.number\n",
    "        this.amount += other.amount\n",
    "        this\n",
    "    }\n",
    "    override def toString: String = s\"avg:${amount / number}\"\n",
    "}\n",
    "// combineByKey()를 이용한 평균값 계산\n",
    "val data = Seq((\"Math\", 100L), (\"Eng\", 80L), (\"Math\", 50L), (\"Eng\", 70L), (\"Eng\", 90L))\n",
    "val rdd = sc.parallelize(data)\n",
    "val createCombiner = (v: Long) => Record(v)\n",
    "val mergeValue = (c: Record, v: Long) => c.add(v)\n",
    "val mergeCombiners = (c1: Record, c2: Record) => c1.add(c2)\n",
    "val result = rdd.combineByKey(createCombiner, mergeValue, mergeCombiners)\n",
    "println(result.collect.mkString(\",\\t\"))\n",
    "</pre>\n",
    "\n",
    "자바\n",
    "<pre>\n",
    "    List&lt;Tuple2&lt;String, Long&gt;&gt; data = Arrays.asList(new Tuple2(\"Math\", 100L), new Tuple2(\"Eng\", 80L), new Tuple2(\"Math\", 50L), new Tuple2(\"Eng\", 70L), new Tuple2(\"Eng\", 90L));\n",
    "\n",
    "    JavaPairRDD&lt;String, Long&gt; rdd = sc.parallelizePairs(data);\n",
    "\n",
    "    // Java7\n",
    "    Function&lt;Long, Record&gt; createCombiner = new Function&lt;Long, Record&gt;() {\n",
    "      @Override\n",
    "      public Record call(Long v) throws Exception {\n",
    "        return new Record(v);\n",
    "      }\n",
    "    };\n",
    "\n",
    "    Function2&lt;Record, Long, Record&gt; mergeValue = new Function2&lt;Record, Long, Record&gt;() {\n",
    "      @Override\n",
    "      public Record call(Record record, Long v) throws Exception {\n",
    "        return record.add(v);\n",
    "      }\n",
    "    };\n",
    "\n",
    "    Function2&lt;Record, Record, Record&gt; mergeCombiners = new Function2&lt;Record, Record, Record&gt;() {\n",
    "      @Override\n",
    "      public Record call(Record r1, Record r2) throws Exception {\n",
    "        return r1.add(r2);\n",
    "      }\n",
    "    };\n",
    "\n",
    "    JavaPairRDD&lt;String, Record&gt; result = rdd.combineByKey(createCombiner, mergeValue, mergeCombiners);\n",
    "\n",
    "    // Java8\n",
    "    JavaPairRDD&lt;String, Record&gt; result2 = rdd.combineByKey((Long v) -&gt; new Record(v), (Record record, Long v) -&gt; record.add(v), (Record r1, Record r2) -&gt; r1.add(r2));\n",
    "\n",
    "    System.out.println(result.collect());\n",
    "\n",
    "</pre>"
   ]
  },
  {
   "cell_type": "code",
   "execution_count": 8,
   "metadata": {
    "collapsed": false,
    "scrolled": false
   },
   "outputs": [],
   "source": [
    "# 파이썬 - 다음 소스는 jupyter notebook에서 바로 실행 불가.\n",
    "# https://stackoverflow.com/questions/28569374/spark-returning-pickle-error-cannot-lookup-attribute\n",
    "record_py = \"\"\"class Record:\n",
    "    def __init__(self, amount, number=1):\n",
    "        self.amount = amount\n",
    "        self.number = number\n",
    "        \n",
    "    def addAmt(self, amount):\n",
    "        return Record(self.amount + amount, self.number + 1)\n",
    "    \n",
    "    def __add__(self, other):\n",
    "        amount = self.amount + other.amount\n",
    "        number = self.number + other.number \n",
    "        return Record(amount, number)\n",
    "        \n",
    "    def __str__(self):\n",
    "        return \"avg:\" + str(self.amount / self.number)\n",
    "\n",
    "    def __repr__(self):\n",
    "        return 'Record(%r, %r)' % (self.amount, self.number)\n",
    "\"\"\"\n",
    "\n",
    "src = \"\"\"import pyspark\n",
    "from record import *\n",
    "\n",
    "sc = pyspark.SparkContext()\n",
    "\n",
    "def createCombiner(v):\n",
    "    return Record(v)\n",
    "\n",
    "def mergeValue(c, v):\n",
    "    return c.addAmt(v)\n",
    "\n",
    "def mergeCombiners(c1, c2):\n",
    "    return c1 + c2\n",
    "\n",
    "rdd = sc.parallelize([(\"Math\", 100), (\"Eng\", 80), (\"Math\", 50), (\"Eng\", 70), (\"Eng\", 90)])\n",
    "result = rdd.combineByKey(lambda v: createCombiner(v), lambda c, v: mergeValue(c, v),\n",
    "                                  lambda c1, c2: mergeCombiners(c1, c2))\n",
    "\n",
    "print('Math', result.collectAsMap()['Math'], 'Eng', result.collectAsMap()['Eng'])\n",
    "\"\"\"\n",
    "\n",
    "with open('record.py', 'w') as f:\n",
    "    f.write(record_py)\n",
    "with open('job.py', 'w') as f:\n",
    "    f.write(src)"
   ]
  },
  {
   "cell_type": "code",
   "execution_count": 9,
   "metadata": {
    "collapsed": false,
    "scrolled": false
   },
   "outputs": [
    {
     "name": "stdout",
     "output_type": "stream",
     "text": [
      "Math avg:75.0 Eng avg:80.0\n"
     ]
    }
   ],
   "source": [
    "%%bash\n",
    "$SPARK_HOME/bin/spark-submit --py-files record.py job.py 2>/dev/null"
   ]
  },
  {
   "cell_type": "code",
   "execution_count": 10,
   "metadata": {
    "collapsed": true
   },
   "outputs": [],
   "source": [
    "import os\n",
    "#os.remove('record.py')\n",
    "os.remove('job.py')"
   ]
  },
  {
   "cell_type": "markdown",
   "metadata": {},
   "source": [
    "#### 2.1.5.23 aggregateByKey\n",
    "\n",
    "combineByKey()의 특수한 경우로 초기값을 생성하는 부분을 제외하면 동일한 동작을 수행.\n",
    "\n",
    "def aggregateByKey[U](zeroValue: U)(seqOp: (U, V) => U, combOp: (U, U) => U): RDD[(K, U)]\n",
    "\n",
    "seqOp은 mergeValue(), combOp은 mergeCombiner()와 서로 같은 역할을 하는 함수.\n",
    "\n",
    "병합에 필요한 초기값을 알 기 위해 zeroValue라는 \"값\"을 사용함.\n",
    "\n",
    "스칼라\n",
    "<pre>\n",
    "    val data = Seq((\"Math\", 100L), (\"Eng\", 80L), (\"Math\", 50L), (\"Eng\", 70L), (\"Eng\", 90L))\n",
    "    val rdd = sc.parallelize(data)\n",
    "    val zero = Record(0, 0)\n",
    "    val mergeValue = (c: Record, v: Long) => c.add(v)\n",
    "    val mergeCombiners = (c1: Record, c2: Record) => c1.add(c2)\n",
    "    val result = rdd.aggregateByKey(zero)(mergeValue, mergeCombiners)\n",
    "    println(result.collect.mkString(\",\\t\"))\n",
    "</pre>\n",
    "\n",
    "자바\n",
    "<pre>\n",
    "List&lt;Tuple2&lt;String, Long&gt;&gt; data = Arrays.asList(new Tuple2(\"Math\", 100L), new Tuple2(\"Eng\", 80L), new Tuple2(\"Math\", 50L), new Tuple2(\"Eng\", 70L), new Tuple2(\"Eng\", 90L));\n",
    "\n",
    "    JavaPairRDD&lt;String, Long&gt; rdd = sc.parallelizePairs(data);\n",
    "\n",
    "    // Java7\n",
    "    Record zero = new Record(0, 0);\n",
    "\n",
    "    Function2&lt;Record, Long, Record&gt; mergeValue = new Function2&lt;Record, Long, Record&gt;() {\n",
    "      @Override\n",
    "      public Record call(Record record, Long v) throws Exception {\n",
    "        return record.add(v);\n",
    "      }\n",
    "    };\n",
    "\n",
    "    Function2&lt;Record, Record, Record&gt; mergeCombiners = new Function2&lt;Record, Record, Record&gt;() {\n",
    "      @Override\n",
    "      public Record call(Record r1, Record r2) throws Exception {\n",
    "        return r1.add(r2);\n",
    "      }\n",
    "    };\n",
    "\n",
    "    JavaPairRDD&lt;String, Record&gt; result = rdd.aggregateByKey(zero, mergeValue, mergeCombiners);\n",
    "\n",
    "    // Java8\n",
    "    JavaPairRDD&lt;String, Record&gt; result2 = rdd.aggregateByKey(zero, (Record record, Long v) -&gt; record.add(v), (Record r1, Record r2) -&gt; r1.add(r2));\n",
    "\n",
    "    System.out.println(result.collect());\n",
    "</pre>"
   ]
  },
  {
   "cell_type": "code",
   "execution_count": 11,
   "metadata": {
    "collapsed": true
   },
   "outputs": [],
   "source": [
    "# 파이썬 - 다음 소스는 jupyter notebook에서 바로 실행 불가.\n",
    "src = \"\"\"import pyspark\n",
    "from record import *\n",
    "\n",
    "sc = pyspark.SparkContext()\n",
    "\n",
    "def mergeValue(c, v):\n",
    "    return c.addAmt(v)\n",
    "\n",
    "def mergeCombiners(c1, c2):\n",
    "    return c1 + c2\n",
    "\n",
    "rdd = sc.parallelize([(\"Math\", 100), (\"Eng\", 80), (\"Math\", 50), (\"Eng\", 70), (\"Eng\", 90)])\n",
    "result = rdd.aggregateByKey(Record(0, 0), lambda c, v: mergeValue(c, v), lambda c1, c2: mergeCombiners(c1, c2))\n",
    "print('Math', result.collectAsMap()['Math'], 'Eng', result.collectAsMap()['Eng'])\n",
    "\n",
    "\"\"\"\n",
    "\n",
    "with open('job.py', 'w') as f:\n",
    "    f.write(src)"
   ]
  },
  {
   "cell_type": "code",
   "execution_count": 12,
   "metadata": {
    "collapsed": false
   },
   "outputs": [
    {
     "name": "stdout",
     "output_type": "stream",
     "text": [
      "Math avg:75.0 Eng avg:80.0\n"
     ]
    }
   ],
   "source": [
    "%%bash\n",
    "$SPARK_HOME/bin/spark-submit --py-files record.py job.py 2>/dev/null"
   ]
  },
  {
   "cell_type": "code",
   "execution_count": 13,
   "metadata": {
    "collapsed": true
   },
   "outputs": [],
   "source": [
    "os.remove('record.py')\n",
    "os.remove('job.py')"
   ]
  },
  {
   "cell_type": "markdown",
   "metadata": {},
   "source": [
    "### [pipe 및 파티션 관련 연산]\n",
    "\n",
    "#### 2.1.5.24 pipe\n",
    "\n",
    "pipe를 이용하면 데이터를 처리하는 과정에서 외부 프로세스 활용 가능.\n",
    "\n",
    "cut 유틸리티를 이용해 문자열 분리 후 첫 번째와 세 번째 숫자를 뽑아내는 예제\n",
    "\n",
    "스칼라\n",
    "<pre>\n",
    "    val rdd = sc.parallelize(List(\"1,2,3\", \"4,5,6\", \"7,8,9\"))\n",
    "    val result = rdd.pipe(\"cut -f 1,3 -d ,\")\n",
    "    println(result.collect.mkString(\", \"))\n",
    "</pre>\n",
    "\n",
    "자바\n",
    "<pre>\n",
    "    JavaRDD&lt;String&gt; rdd = sc.parallelize(Arrays.asList(\"1,2,3\", \"4,5,6\", \"7,8,9\"));\n",
    "    JavaRDD&lt;String&gt; result = rdd.pipe(\"cut -f 1,3 -d ,\");\n",
    "    System.out.println(result.collect());\n",
    "</pre>"
   ]
  },
  {
   "cell_type": "code",
   "execution_count": 14,
   "metadata": {
    "collapsed": false
   },
   "outputs": [
    {
     "name": "stdout",
     "output_type": "stream",
     "text": [
      "['1,3', '4,6', '7,9']\n"
     ]
    }
   ],
   "source": [
    "# 파이썬\n",
    "rdd = sc.parallelize([\"1,2,3\", \"4,5,6\", \"7,8,9\"])\n",
    "result = rdd.pipe(\"cut -f 1,3 -d ,\")\n",
    "print(result.collect())"
   ]
  },
  {
   "cell_type": "markdown",
   "metadata": {},
   "source": [
    "#### 2.1.5.25 coelesce와 repartition\n",
    "\n",
    "repartition() : 파티션 수를 늘리거나 줄이는 것 모두 가능. 셔플을 기반으로 동작. 파티션을 늘릴 경우 주로 사용.\n",
    "    \n",
    "coalesce() : 줄이는 것만 가능. 셔플옵션 없으면 셔플 안함. 파티션을 줄일 경우 주로 사용.\n",
    "\n",
    "스칼라\n",
    "<pre>\n",
    "    val rdd1 = sc.parallelize(1 to 1000000, 10)\n",
    "    val rdd2 = rdd1.coalesce(5)\n",
    "    val rdd3 = rdd2.repartition(10);\n",
    "    println(s\"partition size: ${rdd1.getNumPartitions}\")\n",
    "    println(s\"partition size: ${rdd2.getNumPartitions}\")\n",
    "    println(s\"partition size: ${rdd3.getNumPartitions}\")\n",
    "</pre>\n",
    "\n",
    "자바\n",
    "<pre>\n",
    "    JavaRDD&lt;Integer&gt; rdd1 = sc.parallelize(Arrays.asList(1, 2, 3, 4, 5, 6, 7, 8, 9, 0), 10);\n",
    "    JavaRDD&lt;Integer&gt; rdd2 = rdd1.coalesce(5);\n",
    "    JavaRDD&lt;Integer&gt; rdd3 = rdd2.coalesce(10);\n",
    "    System.out.println(\"partition size:\" + rdd1.getNumPartitions());\n",
    "    System.out.println(\"partition size:\" + rdd2.getNumPartitions());\n",
    "    System.out.println(\"partition size:\" + rdd3.getNumPartitions());\n",
    "</pre>"
   ]
  },
  {
   "cell_type": "code",
   "execution_count": 15,
   "metadata": {
    "collapsed": false
   },
   "outputs": [
    {
     "name": "stdout",
     "output_type": "stream",
     "text": [
      "partition size: 10\n",
      "partition size: 5\n",
      "partition size: 10\n"
     ]
    }
   ],
   "source": [
    "# 파이썬\n",
    "rdd1 = sc.parallelize(list(range(1, 11)), 10)\n",
    "rdd2 = rdd1.coalesce(5)\n",
    "rdd3 = rdd2.repartition(10)\n",
    "print(\"partition size: %d\" % rdd1.getNumPartitions())\n",
    "print(\"partition size: %d\" % rdd2.getNumPartitions())\n",
    "print(\"partition size: %d\" % rdd3.getNumPartitions())"
   ]
  },
  {
   "cell_type": "markdown",
   "metadata": {},
   "source": [
    "#### 2.1.5.26 repartitionAndSortWithinPartitions\n",
    "\n",
    "RDD를 구성하는 모든 데이터를 특정 기준에 따라 여러 개의 파티션으로 분리하고 각 파티션 단위로 정렬을 수행한 뒤 이 결과로 새로운 RDD를 생성해 주는 메서드.\n",
    "\n",
    "데이터가 키와 값 쌍으로 구성돼 있어야 함.\n",
    "\n",
    "파티셔너 : 각 데이터의 키 값을 이용해 데이터가 속할 파티션을 결정. 이 때 키 값을 이용한 정렬도 함께 수행.\n",
    "\n",
    "10개의 무작위 숫자를 3개의 파티션으로 분리해 보는 예제\n",
    "\n",
    "스칼라\n",
    "<pre>\n",
    "    val r = scala.util.Random\n",
    "    val data = for (i &lt;- 1 to 10) yield (r.nextInt(100), \"-\")\n",
    "    val rdd1 = sc.parallelize(data)\n",
    "    val rdd2 = rdd1.repartitionAndSortWithinPartitions(new HashPartitioner(3))\n",
    "    rdd2.foreachPartition(it =&gt; {\n",
    "      println(\"==========\");\n",
    "      it.foreach(v => println(v))\n",
    "    })\n",
    "</pre>\n",
    "\n",
    "자바\n",
    "<pre>\n",
    "    List&lt;Integer&gt; data = fillToNRandom(10);\n",
    "    JavaPairRDD&lt;Integer, String&gt; rdd1 = sc.parallelize(data).mapToPair((Integer v) -&gt; new Tuple2(v, \"-\"));\n",
    "    JavaPairRDD&lt;Integer, String&gt; rdd2 = rdd1.repartitionAndSortWithinPartitions(new HashPartitioner(3));\n",
    "\n",
    "    rdd2.foreachPartition(new VoidFunction&lt;Iterator&lt;Tuple2&lt;Integer, String&gt;&gt;&gt;() {\n",
    "      @Override\n",
    "      public void call(Iterator&lt;Tuple2&lt;Integer, String&gt;&gt; it) throws Exception {        System.out.println(\"==========\");\n",
    "        while (it.hasNext()) {\n",
    "          System.out.println(it.next());\n",
    "        }\n",
    "      }\n",
    "    });\n",
    "\n",
    "</pre>"
   ]
  },
  {
   "cell_type": "code",
   "execution_count": 16,
   "metadata": {
    "collapsed": false
   },
   "outputs": [
    {
     "data": {
      "text/plain": [
       "[(6, '-'),\n",
       " (27, '-'),\n",
       " (54, '-'),\n",
       " (93, '-'),\n",
       " (10, '-'),\n",
       " (22, '-'),\n",
       " (41, '-'),\n",
       " (86, '-'),\n",
       " (86, '-'),\n",
       " (98, '-')]"
      ]
     },
     "execution_count": 16,
     "metadata": {},
     "output_type": "execute_result"
    }
   ],
   "source": [
    "# 파이썬\n",
    "import random\n",
    "data = [random.randrange(1, 100) for i in range(0, 10)]\n",
    "rdd1 = sc.parallelize(data).map(lambda v: (v, \"-\"))\n",
    "rdd2 = rdd1.repartitionAndSortWithinPartitions(3, lambda x: x)\n",
    "# 결과 검증\n",
    "# rdd2.foreachPartition(lambda values: print(list(values)))\n",
    "rdd2.collect()"
   ]
  },
  {
   "cell_type": "markdown",
   "metadata": {},
   "source": [
    "foreachPartition() 메서드는 RDD의 파티션 단위로 특정 함수를 실행해 주는 메서드.\n",
    "\n",
    "결과 : 각 기 값에 따라 파티션이 분리되고 동시에 키 값에 따라 정렬."
   ]
  },
  {
   "cell_type": "markdown",
   "metadata": {
    "collapsed": true
   },
   "source": [
    "#### 2.1.5.27 partitionBy\n",
    "\n",
    "RDD 구성요소가 키와 값의 쌍으로 구성된 경우 사용할 수 있는 메서드.\n",
    "\n",
    "Partitioner 클래스의 인스턴스를 인자로 전달.\n",
    "\n",
    "HashPartitioner, RangePartitioner 두 종류 존재. 파티션 생성 기준을 변경하고 싶으면 Partitioner 클래스를 상속.\n",
    "\n",
    "스칼라\n",
    "<pre>\n",
    "    val rdd1 = sc.parallelize(List(\"apple\", \"mouse\", \"monitor\"), 5).map { a => (a, a.length) }\n",
    "    val rdd2 = rdd1.partitionBy(new HashPartitioner(3))\n",
    "    println(s\"rdd1:${rdd1.getNumPartitions}, rdd2:${rdd2.getNumPartitions}\")\n",
    "</pre>\n",
    "\n",
    "자바\n",
    "<pre>\n",
    "    List&lt;Tuple2&lt;String, Integer&gt;&gt; data = Arrays.asList(new Tuple2(\"apple\", 1), new Tuple2(\"mouse\", 1), new Tuple2(\"monitor\", 1));\n",
    "    JavaPairRDD&lt;String, Integer&gt; rdd1 = sc.parallelizePairs(data, 5);\n",
    "    JavaPairRDD&lt;String, Integer&gt; rdd2 = rdd1.partitionBy(new HashPartitioner(3));\n",
    "    System.out.println(\"rdd1:\" + rdd1.getNumPartitions() + \", rdd2:\" + rdd2.getNumPartitions());\n",
    "</pre>"
   ]
  },
  {
   "cell_type": "code",
   "execution_count": 17,
   "metadata": {
    "collapsed": false
   },
   "outputs": [
    {
     "name": "stdout",
     "output_type": "stream",
     "text": [
      "rdd1: 5, rdd2: 3\n"
     ]
    }
   ],
   "source": [
    "# 파이썬\n",
    "rdd1 = sc.parallelize([(\"apple\", 1), (\"mouse\", 1), (\"monitor\", 1)], 5)\n",
    "rdd2 = rdd1.partitionBy(3)\n",
    "print(\"rdd1: %d, rdd2: %d\" % (rdd1.getNumPartitions(), rdd2.getNumPartitions()))"
   ]
  },
  {
   "cell_type": "markdown",
   "metadata": {},
   "source": [
    "### 필터와 정렬 연산\n",
    "\n",
    "#### 2.1.5.28 filter\n",
    "\n",
    "RDD의 원하는 요소만 남기고 원하지 않는 요소를 걸러내는 메서드.\n",
    "\n",
    "참 거짓으로 가려내는 함수를 RDD의 각 요소에 적용해 결과가 참인 것만 남김.\n",
    "\n",
    "스칼라\n",
    "<pre>\n",
    "    val rdd = sc.parallelize(1 to 5)\n",
    "    val result = rdd.filter(_ > 2)\n",
    "    println(result.collect.mkString(\", \"))\n",
    "</pre>\n",
    "\n",
    "자바\n",
    "<pre>\n",
    "    JavaRDD&lt;Integer&gt; rdd = sc.parallelize(Arrays.asList(1, 2, 3, 4, 5));\n",
    "    JavaRDD&lt;Integer&gt; result = rdd.filter(new Function&lt;Integer, Boolean&gt;() {\n",
    "      @Override\n",
    "      public Boolean call(Integer v1) throws Exception {\n",
    "        return v1 &gt; 2;\n",
    "      }\n",
    "    });\n",
    "    System.out.println(result.collect());\n",
    "</pre>"
   ]
  },
  {
   "cell_type": "code",
   "execution_count": 18,
   "metadata": {
    "collapsed": false
   },
   "outputs": [
    {
     "name": "stdout",
     "output_type": "stream",
     "text": [
      "[3, 4, 5]\n"
     ]
    }
   ],
   "source": [
    "rdd1 = sc.parallelize(range(1, 5+1))\n",
    "rdd2 = rdd1.filter(lambda i: i > 2)\n",
    "print(rdd2.collect())"
   ]
  },
  {
   "cell_type": "markdown",
   "metadata": {},
   "source": [
    "#### 2.1.5.29 sortByKey\n",
    "\n",
    "sortByKey()는 키 값을 기준으로 요소를 정렬하는 연산.\n",
    "\n",
    "키 값을 기준으로 정렬하기 때문에 모든 요소가 키와 값 형태도 구성돼 있어야 함.\n",
    "\n",
    "스칼라\n",
    "<pre>\n",
    "    val rdd = sc.parallelize(List(\"q\", \"z\", \"a\"))\n",
    "    val result = rdd.map((_, 1)).sortByKey()\n",
    "    println(result.collect.mkString(\", \"))\n",
    "</pre>\n",
    "\n",
    "자바\n",
    "<pre>\n",
    "    List&lt;Tuple2&lt;String, Integer&gt;&gt; data = Arrays.asList(new Tuple2(\"q\", 1), new Tuple2(\"z\", 1), new Tuple2(\"a\", 1));\n",
    "    JavaPairRDD&lt;String, Integer&gt; rdd = sc.parallelizePairs(data);\n",
    "    JavaPairRDD&lt;String, Integer&gt; result = rdd.sortByKey();\n",
    "    System.out.println(result.collect());\n",
    "</pre>"
   ]
  },
  {
   "cell_type": "code",
   "execution_count": 19,
   "metadata": {
    "collapsed": false
   },
   "outputs": [
    {
     "name": "stdout",
     "output_type": "stream",
     "text": [
      "[('a', 1), ('q', 1), ('z', 1)]\n"
     ]
    }
   ],
   "source": [
    "# 파이썬\n",
    "rdd = sc.parallelize([(\"q\", 1), (\"z\", 1), (\"a\", 1)])\n",
    "result = rdd.sortByKey()\n",
    "print(result.collect())"
   ]
  },
  {
   "cell_type": "markdown",
   "metadata": {},
   "source": [
    "#### 2.1.5.30 keys, values\n",
    "\n",
    "키와 값 쌍으로 구성된 경우에 사용할 수 있는 메서드\n",
    "\n",
    "keys() : 키에 해당하는 요소로 구성된 RDD를 생성\n",
    "    \n",
    "values() : 값에 해당하는 요소로 구성된 RDD를 리턴\n",
    "\n",
    "스칼라\n",
    "<pre>\n",
    "    val rdd = sc.parallelize(List((\"k1\", \"v1\"), (\"k2\", \"v2\"), (\"k3\", \"v3\"))\n",
    "    println(rdd.keys.collect.mkString(\",\"))\n",
    "    println(rdd.values.collect.mkString(\",\"))\n",
    "</pre>\n",
    "\n",
    "자바\n",
    "<pre>\n",
    "    List&lt;Tuple2&lt;String, String&gt;&gt; data = Arrays.asList(new Tuple2(\"k1\", \"v1\"), new Tuple2(\"k2\", \"v2\"), new Tuple2(\"k3\", \"v3\"));\n",
    "    JavaPairRDD&lt;String, String&gt; rdd = sc.parallelizePairs(data);\n",
    "    System.out.println(rdd.keys().collect());\n",
    "    System.out.println(rdd.values().collect());\n",
    "</pre>"
   ]
  },
  {
   "cell_type": "code",
   "execution_count": 20,
   "metadata": {
    "collapsed": false
   },
   "outputs": [
    {
     "name": "stdout",
     "output_type": "stream",
     "text": [
      "['k1', 'k2', 'k3']\n",
      "['v1', 'v2', 'v3']\n"
     ]
    }
   ],
   "source": [
    "# 파이썬\n",
    "rdd = sc.parallelize([(\"k1\", \"v1\"), (\"k2\", \"v2\"), (\"k3\", \"v3\")])\n",
    "print(rdd.keys().collect())\n",
    "print(rdd.values().collect())"
   ]
  },
  {
   "cell_type": "markdown",
   "metadata": {},
   "source": [
    "#### 2.1.5.31 sample\n",
    "\n",
    "샘플을 추출해 새로운 RDD를 생성.\n",
    "\n",
    "sample(withReplacement: Boolean, fraction: Double, seed: Long = Utils.random.nextLong): RDD[T]\n",
    "\n",
    "withReplacement : 복원 추출을 수행할지 여부를 정하는 것. True면 복원, False면 비복원.\n",
    "\n",
    "fraction\n",
    "\n",
    "복원 추출 : 각 요소의 평균 발생 회수. 반드시 0 이상이여야 함.\n",
    "\n",
    "비복원 추출 : 각 요소가 샘플에 포함될 확률. 0과 1 사이의 값으로 지정.\n",
    "\n",
    "seed : 반복 시행 시 결과가 바뀌지 않고 일정한 값이 나오도록 제어하는 목적.\n",
    "\n",
    "스칼라\n",
    "<pre>\n",
    "    val rdd = sc.parallelize(1 to 100)\n",
    "    val result1 = rdd.sample(false, 0.5)\n",
    "    val result2 = rdd.sample(true, 1.5)\n",
    "    println(result1.take(5).mkString(\",\"))\n",
    "    println(result2.take(5).mkString(\",\"))\n",
    "</pre>\n",
    "\n",
    "자바\n",
    "<pre>\n",
    "    List&lt;Integer&gt; data = fillToN(100);\n",
    "    JavaRDD&lt;Integer&gt; rdd = sc.parallelize(data);\n",
    "    JavaRDD&lt;Integer&gt; result1 = rdd.sample(false, 0.5);\n",
    "    JavaRDD&lt;Integer&gt; result2 = rdd.sample(true, 1.5);\n",
    "    System.out.println(result1.take(5));\n",
    "    System.out.println(result2.take(5));\n",
    "</pre>"
   ]
  },
  {
   "cell_type": "code",
   "execution_count": 21,
   "metadata": {
    "collapsed": false
   },
   "outputs": [
    {
     "name": "stdout",
     "output_type": "stream",
     "text": [
      "[2, 3, 6, 7, 8]\n",
      "[2, 3, 3, 3, 3]\n"
     ]
    }
   ],
   "source": [
    "# 파이썬\n",
    "rdd = sc.parallelize(range(1,100+1))\n",
    "result1 = rdd.sample(False, 0.5)\n",
    "result2 = rdd.sample(True, 1.5)\n",
    "print(result1.take(5))\n",
    "print(result2.take(5))"
   ]
  },
  {
   "cell_type": "markdown",
   "metadata": {
    "collapsed": true
   },
   "source": [
    "### 2.1.6 RDD 액션\n",
    "\n",
    "결과값이 정수, 리스트, 맵 등 RDD가 아닌 타입인 경우\n",
    "\n",
    "트렌스포메이션 : 결과값이 RDD인 메서드. 느긋한 평가(lazy evaluation, 지연계산) 방식을 채택.\n",
    "\n",
    "액션 메서드를 여러번 호출하면 트렌스포메이션 메서드도 여러번 실행됨."
   ]
  },
  {
   "cell_type": "markdown",
   "metadata": {},
   "source": [
    "### 출력과 관련된 연산\n",
    "\n",
    "#### 2.1.6.1 first\n",
    "\n",
    "RDD 요소 가운데 첫 번째 요소 하나를 돌려줌.\n",
    "\n",
    "결과를 빠르게 확인하는 용도로 활용\n",
    "\n",
    "스칼라\n",
    "<pre>\n",
    "    val rdd = sc.parallelize(List(5, 4, 1))\n",
    "    val result = rdd.first\n",
    "    println(result)\n",
    "</pre>\n",
    "\n",
    "자바\n",
    "<pre>\n",
    "    List&lt;Integer&gt; data = Arrays.asList(5, 4, 1);\n",
    "    JavaRDD&lt;Integer&gt; rdd = sc.parallelize(data);\n",
    "    int result = rdd.first();\n",
    "    System.out.println(result);\n",
    "</pre>"
   ]
  },
  {
   "cell_type": "code",
   "execution_count": 22,
   "metadata": {
    "collapsed": false
   },
   "outputs": [
    {
     "name": "stdout",
     "output_type": "stream",
     "text": [
      "5\n"
     ]
    }
   ],
   "source": [
    "# 파이썬\n",
    "rdd = sc.parallelize([5, 4, 1])\n",
    "result = rdd.first();\n",
    "print(result)"
   ]
  },
  {
   "cell_type": "markdown",
   "metadata": {},
   "source": [
    "#### 2.1.6.2 take\n",
    "\n",
    "첫 번째 요소로부터 순서대로 n개를 추출해서 되돌려주는 메서드\n",
    "\n",
    "스칼라\n",
    "<pre>\n",
    "    val rdd = sc.parallelize(1 to 20, 5)\n",
    "    val result = rdd.take(5)\n",
    "    println(result.mkString(\", \"))\n",
    "</pre>\n",
    "\n",
    "자바\n",
    "<pre>\n",
    "    List&lt;Integer&gt; data = fillToN(100);\n",
    "    JavaRDD&lt;Integer&gt; rdd = sc.parallelize(data);\n",
    "    List&lt;Integer&gt; result = rdd.take(5);\n",
    "    System.out.println(result);\n",
    "</pre>"
   ]
  },
  {
   "cell_type": "code",
   "execution_count": 23,
   "metadata": {
    "collapsed": false
   },
   "outputs": [
    {
     "name": "stdout",
     "output_type": "stream",
     "text": [
      "[1, 2, 3, 4, 5]\n"
     ]
    }
   ],
   "source": [
    "# 파이썬\n",
    "rdd = sc.parallelize(range(1, 100+1))\n",
    "result = rdd.take(5)\n",
    "print(result)"
   ]
  },
  {
   "cell_type": "markdown",
   "metadata": {},
   "source": [
    "#### 2.1.6.3 takeSample\n",
    "\n",
    "RDD 요소 가운데 지정된 크기의 샘플을 추출하는 메서드.\n",
    "\n",
    "결과 타입이 배열이나 리스트같은 컬렉션 타입. 샘플의 크기가 너무 크면 메모리 오류날 수 있음.\n",
    "\n",
    "스칼라\n",
    "<pre>\n",
    "    val rdd = sc.parallelize(1 to 100)\n",
    "    val result = rdd.takeSample(false, 20)\n",
    "    println(result.length)\n",
    "</pre>\n",
    "\n",
    "자바\n",
    "<pre>\n",
    "    List&lt;Integer&gt; data = fillToN(100);\n",
    "    JavaRDD&lt;Integer&gt; rdd = sc.parallelize(data);\n",
    "    List&lt;Integer&gt; result = rdd.takeSample(false, 20);\n",
    "    System.out.println(result.size());\n",
    "</pre>"
   ]
  },
  {
   "cell_type": "code",
   "execution_count": 24,
   "metadata": {
    "collapsed": false
   },
   "outputs": [
    {
     "name": "stdout",
     "output_type": "stream",
     "text": [
      "20\n"
     ]
    }
   ],
   "source": [
    "# 파이썬\n",
    "rdd = sc.parallelize(range(1, 100))\n",
    "result = rdd.takeSample(False, 20)\n",
    "print(len(result))"
   ]
  },
  {
   "cell_type": "markdown",
   "metadata": {},
   "source": [
    "#### 2.1.6.4 collect, count\n",
    "\n",
    "collect() : RDD의 모든 요소를 하나의 컬렉션에 담아서 돌려주는 메서드.\n",
    "\n",
    "count() : RDD의 모든 요소의 개수를 돌려주는 메서드."
   ]
  },
  {
   "cell_type": "markdown",
   "metadata": {},
   "source": [
    "#### 2.1.6.5 countByValue\n",
    "\n",
    "RDD에 속하는 각 값들이 나타나는 회수를 구해 맵 형태로 돌려주는 메서드.\n",
    "\n",
    "스칼라\n",
    "<pre>\n",
    "    val rdd = sc.parallelize(List(1, 1, 2, 3, 3))\n",
    "    val result = rdd.countByValue\n",
    "    println(result)\n",
    "</pre>\n",
    "\n",
    "자바\n",
    "<pre>\n",
    "    JavaRDD&lt;Integer&gt; rdd = sc.parallelize(Arrays.asList(1, 1, 2, 3, 3));\n",
    "    Map&lt;Integer, Long&gt; result = rdd.countByValue();\n",
    "    System.out.println(result);\n",
    "</pre>"
   ]
  },
  {
   "cell_type": "code",
   "execution_count": 25,
   "metadata": {
    "collapsed": false
   },
   "outputs": [
    {
     "name": "stdout",
     "output_type": "stream",
     "text": [
      "1 2\n",
      "2 1\n",
      "3 2\n"
     ]
    }
   ],
   "source": [
    "# 파이썬\n",
    "rdd = sc.parallelize([1, 1, 2, 3, 3])\n",
    "result = rdd.countByValue()\n",
    "for k, v in result.items():\n",
    "    print(k, v)"
   ]
  },
  {
   "cell_type": "markdown",
   "metadata": {},
   "source": [
    "#### 2.1.6.6 reduce\n",
    "\n",
    "RDD에 포함된 임의의 값 두개를 하나로 합치는 함수를 이용해 \n",
    "\n",
    "RDD에 포함된 모든 요소를 하나의 값으로 병합하고 그 결과값을 반환하는 메서드.\n",
    "\n",
    "reduce() 메서드의 정의\n",
    "\n",
    "def reduce(f: (T, T) => T): T\n",
    "\n",
    "각 서버에 흩어져 있는 파티션 단위로 나누어 처리됨.\n",
    "\n",
    "RDD에 포함된 모든 요소에 대해 교환법칙과 결합법칙이 성립되는 경우에만 사용 가능.\n",
    "\n",
    "1에서 10까지 숫자로 구성된 RDD의 모든 원소의 합을 reduce()로 구하는 예제\n",
    "\n",
    "스칼라\n",
    "<pre>\n",
    "    val rdd = sc.parallelize(1 to 10, 3)\n",
    "    val result = rdd.reduce(_ + _)\n",
    "    println(result)\n",
    "</pre>\n",
    "\n",
    "자바\n",
    "<pre>\n",
    "    List&lt;Integer&gt; data = Arrays.asList(1, 2, 3, 4, 5, 6, 7, 8, 9, 10);\n",
    "    JavaRDD&lt;Integer&gt; rdd = sc.parallelize(data, 3);\n",
    "    // Java7\n",
    "    int result = rdd.reduce(new Function2&lt;Integer, Integer, Integer&gt;() {\n",
    "      @Override\n",
    "      public Integer call(Integer v1, Integer v2) throws Exception {\n",
    "        return v1 + v2;\n",
    "      }\n",
    "    });\n",
    "    // Java8\n",
    "    int result2 = rdd.reduce((Integer v1, Integer v2) -&gt; v1 + v2);\n",
    "    System.out.println(result);\n",
    "</pre>"
   ]
  },
  {
   "cell_type": "code",
   "execution_count": 26,
   "metadata": {
    "collapsed": false
   },
   "outputs": [
    {
     "name": "stdout",
     "output_type": "stream",
     "text": [
      "55\n"
     ]
    }
   ],
   "source": [
    "# 파이썬\n",
    "rdd = sc.parallelize(range(1, 11), 3)\n",
    "result = rdd.reduce(lambda v1, v2: v1 + v2)\n",
    "print(result)"
   ]
  },
  {
   "cell_type": "markdown",
   "metadata": {
    "collapsed": true
   },
   "source": [
    "#### 2.1.6.7 fold\n",
    "\n",
    "병합 연산의 초기값을 지정해 줄 수 있음. \n",
    "\n",
    "fold() 메서드의 정의\n",
    "\n",
    "def fold(zeroValue: T) (op: (T, T) => T)\n",
    "\n",
    "fold() 메서드에 지정한 초기값은 각 파티션별 부분 병합을 수행할 때마다 사용되기 때문에 여러 번 적용해도 문제가 없는 값을 사용해야 함.\n",
    "\n",
    "병합 연산이 덧셈이라면 0, 곱셉이라면 1을 사용 가능.\n",
    "\n",
    "스칼라\n",
    "<pre>\n",
    "    val rdd = sc.parallelize(1 to 10, 3)\n",
    "    val result = rdd.fold(0)(_ + _)\n",
    "    println(result)\n",
    "</pre>\n",
    "\n",
    "자바\n",
    "<pre>\n",
    "    List&lt;Integer&gt; data = Arrays.asList(1, 2, 3, 4, 5, 6, 7, 8, 9, 10);\n",
    "    JavaRDD&lt;Integer&gt; rdd = sc.parallelize(data, 3);\n",
    "    // Java7\n",
    "    int result = rdd.fold(0, new Function2&lt;Integer, Integer, Integer&gt;() {\n",
    "      @Override\n",
    "      public Integer call(Integer v1, Integer v2) throws Exception {\n",
    "        return v1 + v2;\n",
    "      }\n",
    "    });\n",
    "    // Java8\n",
    "    int result2 = rdd.fold(0, (Integer v1, Integer v2) -&gt; v1 + v2);\n",
    "    System.out.println(result);\n",
    "</pre>"
   ]
  },
  {
   "cell_type": "code",
   "execution_count": 27,
   "metadata": {
    "collapsed": false
   },
   "outputs": [
    {
     "name": "stdout",
     "output_type": "stream",
     "text": [
      "55\n"
     ]
    }
   ],
   "source": [
    "# 파이썬\n",
    "rdd = sc.parallelize(range(1, 11), 3)\n",
    "result = rdd.fold(0, lambda v1, v2: v1 + v2)\n",
    "print(result)"
   ]
  },
  {
   "cell_type": "markdown",
   "metadata": {},
   "source": [
    "reduce()와 fold() 연산을 이용하여 RDD 상품의 총 가격과 총 개수를 구하는 예제.\n",
    "<pre>\n",
    "  def reduceVsFold(sc: SparkContext) {\n",
    "    // Prod 클래스 선언   \n",
    "    case class Prod(var price: Int) {\n",
    "      var cnt = 1\n",
    "    }\n",
    "    val rdd = sc.parallelize(List(Prod(300), Prod(200), Prod(100)), 10)\n",
    "    // reduce \n",
    "    val r1 = rdd.reduce((p1, p2) => {\n",
    "      p1.price += p2.price\n",
    "      p1.cnt += 1\n",
    "    })\n",
    "    println(s\"Reduce: (${r1.price}, ${r1.cnt})\")\n",
    "    // fold\n",
    "    val r2 = rdd.fold(Prod(0))((p1, p2) => {\n",
    "      p1.price += p2.price\n",
    "      p1.cnt += 1\n",
    "    })\n",
    "    println(s\"Fold: (${r2.price}, ${r2.cnt})\")\n",
    "  }\n",
    "</pre>\n",
    "\n",
    "결과\n",
    "<pre>\n",
    "Reduce: (600, 3)\n",
    "Fold: (600, 11)\n",
    "</pre>\n",
    "\n",
    "reduce 연산의 경우 RDD에 포함된 요소만 병합을 수행하므로 파티션에 속하는 원소가 없으면 처리가 수행되지 않음.\n",
    "\n",
    "fold 연산의 경우 파티션에 속하는 원소가 없어도 초기값으로 지정한 값으로 인해 최초 한 번의 연산이 수행됨."
   ]
  },
  {
   "cell_type": "markdown",
   "metadata": {},
   "source": [
    "#### 2.1.6.8 aggregate\n",
    "\n",
    "메서드의 인자 총 3개. 첫 번째는 초기값. 두 번째는 병합함수. 세 번째는 파티션으로 생성된 부분합을 최종적으로 하나로 합치기 위한 병함함수.\n",
    "\n",
    "aggregate() 메서드의 정의\n",
    "\n",
    "def aggregate\\[U\\](zeroValue: U)(seqOp: (U, T) => U, compOp: (U, U) => U)(implicit arg0:classTag[U]): U\n",
    "\n",
    "U는 초기값과 같은 타입이어야 함.\n",
    "\n",
    "첫 번째 인자인 seqOp은 파티션 병합, 두 번째 인자인 compOp은 최종 병합에 사용.\n",
    "\n",
    "RDD에 포함된 숫자의 평균을 구하는 예제\n",
    "\n",
    "스칼라\n",
    "<pre>\n",
    "    val rdd = sc.parallelize(List(100, 80, 75, 90, 95), 3)\n",
    "    val zeroValue = Record(0, 0)\n",
    "    val seqOp = (r: Record, v: Int) => r.add(v)\n",
    "    val combOp = (r1: Record, r2: Record) => r1 add r2\n",
    "    val result1 = rdd.aggregate(zeroValue)(seqOp, combOp)\n",
    "    println(result1.amount / result1.number)\n",
    "\n",
    "    // 좀더 간결한 코드 \n",
    "    val result2 = rdd.aggregate(Record(0, 0))(_ add _, _ add _)\n",
    "    println(result1.amount / result1.number)\n",
    "</pre>\n",
    "\n",
    "자바\n",
    "<pre>\n",
    "    JavaRDD&lt;Integer&gt; rdd = sc.parallelize(Arrays.asList(100, 80, 75, 90, 95), 3);\n",
    "\n",
    "    Record zeroValue = new Record(0, 0);\n",
    "\n",
    "    // Java7\n",
    "    Function2&lt;Record, Integer, Record&gt; seqOp = new Function2&lt;Record, Integer, Record&gt;() {\n",
    "      @Override\n",
    "      public Record call(Record r, Integer v) throws Exception {\n",
    "        return r.add(v);\n",
    "      }\n",
    "    };\n",
    "\n",
    "    Function2&lt;Record, Record, Record&gt; combOp = new Function2&lt;Record, Record, Record&gt;() {\n",
    "      @Override\n",
    "      public Record call(Record r1, Record r2) throws Exception {\n",
    "        return r1.add(r2);\n",
    "      }\n",
    "    };\n",
    "\n",
    "    Record result = rdd.aggregate(zeroValue, seqOp, combOp);\n",
    "\n",
    "    // Java8\n",
    "    Function2&lt;Record, Integer, Record&gt; seqOp2 = (Record r, Integer v) -&gt; r.add(v);\n",
    "    Function2&lt;Record, Record, Record&gt; combOp2 = (Record r1, Record r2) -&gt; r1.add(r2);\n",
    "    Record result2 = rdd.aggregate(zeroValue, seqOp2, combOp2);\n",
    "\n",
    "    System.out.println(result);\n",
    "</pre>"
   ]
  },
  {
   "cell_type": "code",
   "execution_count": 28,
   "metadata": {
    "collapsed": true
   },
   "outputs": [],
   "source": [
    "# 파이썬 - 다음 소스는 jupyter notebook에서 바로 실행 불가.\n",
    "src = \"\"\"import pyspark\n",
    "from record import *\n",
    "\n",
    "sc = pyspark.SparkContext()\n",
    "\n",
    "def seqOp(r, v):\n",
    "    return r.addAmt(v)\n",
    "def combOp(r1, r2):\n",
    "    return r1 + r2\n",
    "\n",
    "rdd = sc.parallelize([100, 80, 75, 90, 95])\n",
    "result = rdd.aggregate(Record(0, 0), seqOp, combOp)\n",
    "print(result)\n",
    "\"\"\"\n",
    "\n",
    "with open('record.py', 'w') as f:\n",
    "    f.write(record_py)\n",
    "with open('job.py', 'w') as f:\n",
    "    f.write(src)"
   ]
  },
  {
   "cell_type": "code",
   "execution_count": 29,
   "metadata": {
    "collapsed": false
   },
   "outputs": [
    {
     "name": "stdout",
     "output_type": "stream",
     "text": [
      "avg:88.0\n"
     ]
    }
   ],
   "source": [
    "%%bash\n",
    "$SPARK_HOME/bin/spark-submit --py-files record.py job.py 2>/dev/null"
   ]
  },
  {
   "cell_type": "code",
   "execution_count": 30,
   "metadata": {
    "collapsed": true
   },
   "outputs": [],
   "source": [
    "os.remove('record.py')\n",
    "os.remove('job.py')"
   ]
  },
  {
   "cell_type": "markdown",
   "metadata": {},
   "source": [
    "Record는 이전의 combineByKey()에서 사용했던 클래스와 같음.\n",
    "\n",
    "피연산자로 지정된 첫 번째 요소 내부의 값에 대해서는 예외적으로 변형을 허락함."
   ]
  },
  {
   "cell_type": "markdown",
   "metadata": {},
   "source": [
    "#### 2.1.6.9 aggregate\n",
    "\n",
    "RDD를 구성하는 모든 요소가 double, Long 등 숫자 타입일 경우만 사용가능.\n",
    "\n",
    "전체 요소의 합을 구함.\n",
    "\n",
    "스칼라\n",
    "<pre>\n",
    "    val rdd = sc.parallelize(1 to 10)\n",
    "    val result = rdd.sum\n",
    "    println(result)\n",
    "</pre>\n",
    "\n",
    "자바\n",
    "<pre>\n",
    "    List&lt;Double&gt; data = Arrays.asList(1d, 2d, 3d, 4d, 5d, 6d, 7d, 8d, 9d, 10d);\n",
    "    JavaDoubleRDD rdd = sc.parallelizeDoubles(data);\n",
    "    double result = rdd.sum();\n",
    "    System.out.println(result);\n",
    "</pre>"
   ]
  },
  {
   "cell_type": "code",
   "execution_count": 31,
   "metadata": {
    "collapsed": false
   },
   "outputs": [
    {
     "name": "stdout",
     "output_type": "stream",
     "text": [
      "55\n"
     ]
    }
   ],
   "source": [
    "# 파이썬\n",
    "rdd = sc.parallelize(range(1, 11))\n",
    "result = rdd.sum()\n",
    "print(result)"
   ]
  },
  {
   "cell_type": "markdown",
   "metadata": {},
   "source": [
    "#### 2.1.6.10 foreach, foreachPartition\n",
    "\n",
    "foreach()는 RDD의 모든 요소에 특정 함수를 적용하는 메서드.\n",
    "\n",
    "foreachPartition()는 파티션 단위로 특정 함수를 적용. 결과값을 돌려주지 않음.\n",
    "\n",
    "스칼라\n",
    "<pre>\n",
    "    val rdd = sc.parallelize(1 to 10, 3)\n",
    "    rdd.foreach { v =>\n",
    "      println(s\"Value Side Effect: ${v}\")\n",
    "    }\n",
    "    val rdd = sc.parallelize(1 to 10, 3)\n",
    "    rdd.foreachPartition(values => {\n",
    "      println(\"Partition Side Effect!!\")\n",
    "      for (v <- values) println(s\"Value Side Effect: ${v}\")\n",
    "    })\n",
    "</pre>\n",
    "\n",
    "자바\n",
    "<pre>\n",
    "    List&lt;Integer&gt; data = Arrays.asList(1, 2, 3, 4, 5, 6, 7, 8, 9, 10);\n",
    "    JavaRDD&lt;Integer&gt; rdd = sc.parallelize(data);\n",
    "    // Java7\n",
    "    rdd.foreach(new VoidFunction&lt;Integer&gt;() {\n",
    "      @Override\n",
    "      public void call(Integer t) throws Exception {\n",
    "        System.out.println(\"Value Side Effect: \" + t);\n",
    "      }\n",
    "    });\n",
    "    // Java8\n",
    "    rdd.foreach((Integer t) -> System.out.println(\"Value Side Effect: \" + t));\n",
    "    \n",
    "    List&lt;Integer&gt; data = Arrays.asList(1, 2, 3, 4, 5, 6, 7, 8, 9, 10);\n",
    "    JavaRDD&lt;Integer&gt; rdd = sc.parallelize(data, 3);\n",
    "    // Java7\n",
    "    rdd.foreachPartition(new VoidFunction&lt;Iterator&lt;Integer&gt;&gt;() {\n",
    "      @Override\n",
    "      public void call(Iterator&lt;Integer&gt; it) throws Exception {\n",
    "        System.out.println(\"Partition Side Effect!!\");\n",
    "        while (it.hasNext())\n",
    "          System.out.println(\"Value Side Effect: \" + it.next());\n",
    "      }\n",
    "    });\n",
    "    // Java8\n",
    "    rdd.foreachPartition((Iterator&lt;Integer&gt; it) -&gt; {\n",
    "      System.out.println(\"Partition Side Effect!!\");\n",
    "      it.forEachRemaining(v -&gt; System.out.println(\"Value Side Effect:\" + v));\n",
    "    });\n",
    "</pre>"
   ]
  },
  {
   "cell_type": "code",
   "execution_count": 32,
   "metadata": {
    "collapsed": true
   },
   "outputs": [],
   "source": [
    "import os\n",
    "def write_file(fn, msg):\n",
    "    with open(fn,'a' if os.path.exists(fn) else 'w') as f:\n",
    "        f.write(msg + \"\\n\")"
   ]
  },
  {
   "cell_type": "code",
   "execution_count": 33,
   "metadata": {
    "collapsed": true
   },
   "outputs": [],
   "source": [
    "# 파이썬\n",
    "def sideEffect(values):\n",
    "    write_file(\"t.txt\", \"Partition Side Effect!!\")\n",
    "    for v in values:\n",
    "        write_file(\"t.txt\", \"Value Side Effect: %s\" % v)\n",
    "        \n",
    "rdd = sc.parallelize(range(1, 11), 3)\n",
    "result = rdd.foreach(lambda v: write_file(\"t.txt\", \"Value Side Effect: %s\" % v))\n",
    "result = rdd.foreachPartition(sideEffect)"
   ]
  },
  {
   "cell_type": "code",
   "execution_count": 34,
   "metadata": {
    "collapsed": false
   },
   "outputs": [
    {
     "name": "stdout",
     "output_type": "stream",
     "text": [
      "Value Side Effect: 1\n",
      "Value Side Effect: 2\n",
      "Value Side Effect: 3\n",
      "Value Side Effect: 7\n",
      "Value Side Effect: 8\n",
      "Value Side Effect: 9\n",
      "Value Side Effect: 10\n",
      "Value Side Effect: 4\n",
      "Value Side Effect: 5\n",
      "Value Side Effect: 6\n",
      "Partition Side Effect!!\n",
      "Value Side Effect: 1\n",
      "Value Side Effect: 2\n",
      "Value Side Effect: 3\n",
      "Partition Side Effect!!\n",
      "Value Side Effect: 4\n",
      "Value Side Effect: 5\n",
      "Value Side Effect: 6\n",
      "Partition Side Effect!!\n",
      "Value Side Effect: 7\n",
      "Value Side Effect: 8\n",
      "Value Side Effect: 9\n",
      "Value Side Effect: 10\n"
     ]
    }
   ],
   "source": [
    "%%sh\n",
    "cat t.txt;rm t.txt"
   ]
  },
  {
   "cell_type": "markdown",
   "metadata": {},
   "source": [
    "#### 2.1.6.11 toDebugString\n",
    "\n",
    "디버깅을 위한 메서드. RDD의 파티션 개수나 의존성 정보 등 세부정보를 알고 싶을 때 사용.\n",
    "\n",
    "스칼라\n",
    "<pre>\n",
    "    val rdd = sc.parallelize(1 to 100, 10)\n",
    "      .map(_ * 2).persist\n",
    "      .map(_ + 1).coalesce(2)\n",
    "    println(rdd.toDebugString)\n",
    "</pre>\n",
    "\n",
    "자바\n",
    "<pre>\n",
    "    JavaRDD&lt;Integer&gt; rdd1 = sc.parallelize(fillToN(100), 10);\n",
    "    JavaRDD&lt;Integer&gt; rdd2 = rdd1.map((Integer v1) -> v1 * 2);\n",
    "    JavaRDD&lt;Integer&gt; rdd3 = rdd2.map((Integer v1) -> v1 * 2);\n",
    "    JavaRDD&lt;Integer&gt; rdd4 = rdd3.coalesce(2);\n",
    "    System.out.println(rdd4.toDebugString());\n",
    "</pre>"
   ]
  },
  {
   "cell_type": "code",
   "execution_count": 35,
   "metadata": {
    "collapsed": false
   },
   "outputs": [
    {
     "name": "stdout",
     "output_type": "stream",
     "text": [
      "(2) CoalescedRDD[118] at coalesce at NativeMethodAccessorImpl.java:0 []\n",
      " |  PythonRDD[117] at RDD at PythonRDD.scala:48 []\n",
      " |  PythonRDD[116] at RDD at PythonRDD.scala:48 []\n",
      " |  ParallelCollectionRDD[115] at parallelize at PythonRDD.scala:480 []\n"
     ]
    }
   ],
   "source": [
    "# 파이썬\n",
    "rdd = sc.parallelize(range(1, 101), 10).map(lambda v: v*2).persist().map(lambda v: v+1).coalesce(2)\n",
    "for line in rdd.toDebugString().decode('ascii').split('\\n'):\n",
    "    print(line)"
   ]
  },
  {
   "cell_type": "markdown",
   "metadata": {},
   "source": [
    "#### 2.1.6.12 cache, persist, unpersist\n",
    "\n",
    "cache(), persist() : 액션을 수행할 때 불 필요한 재생성 단계를 거치지 않고 원하는 작업을 즉시 실행토록 함.\n",
    "\n",
    "cache() : RDD 정보를 메모리에 저장. 메모리가 부족하면 저장을 수행하지 않음.\n",
    "\n",
    "persist() : StorageLevel 옵션을 이용해 저장 위치와 저장 방식(직렬화 여부) 등 지정.\n",
    "\n",
    "- MEMORY_ONLY : 메모리에만 저장.\n",
    "- MEMORY_AND_DISK_SER : 메모리에 저장하다 공간이 부족할 경우 직렬화 된 포멧으로 DISK를 사용.\n",
    "\n",
    "unpersist() : 이미 저장 중인 데이터가 더 필요없을 때 캐시 설정을 취소.\n",
    "\n",
    "스칼라\n",
    "<pre>\n",
    "    val rdd = sc.parallelize(1 to 100, 10)\n",
    "    val rdd1 = rdd.cache\n",
    "    val rdd2 = rdd.persist(StorageLevel.MEMORY_ONLY)\n",
    "</pre>\n",
    "\n",
    "자바\n",
    "<pre>\n",
    "    JavaRDD<Integer> rdd = sc.parallelize(fillToN(100), 10);\n",
    "    rdd.cache();\n",
    "    rdd.persist(StorageLevel.MEMORY_ONLY());\n",
    "</pre>"
   ]
  },
  {
   "cell_type": "code",
   "execution_count": 36,
   "metadata": {
    "collapsed": false
   },
   "outputs": [
    {
     "name": "stdout",
     "output_type": "stream",
     "text": [
      "True\n"
     ]
    }
   ],
   "source": [
    "# 파이썬\n",
    "from pyspark.storagelevel import StorageLevel\n",
    "rdd = sc.parallelize(range(1, 101), 10)\n",
    "rdd.cache()\n",
    "rdd.persist(StorageLevel.MEMORY_ONLY)\n",
    "print(rdd.persist().is_cached)"
   ]
  },
  {
   "cell_type": "markdown",
   "metadata": {},
   "source": [
    "#### 2.1.6.11 partitions\n",
    "\n",
    "partitions() : RDD의 파티션 정보가 담긴 Partition 타입 객체 배열을 돌려줌. 파티션 인덱스 정보를 알려주는 index() 메서드 포함.\n",
    "\n",
    "getNumPartitions() : 파티션 크기를 알아냄.\n",
    "\n",
    "스칼라\n",
    "<pre>\n",
    "    val rdd = sc.parallelize(1 to 1000, 10)\n",
    "    println(rdd.partitions.size)\n",
    "    println(rdd.getNumPartitions)\n",
    "</pre>\n",
    "\n",
    "자바\n",
    "<pre>\n",
    "    JavaRDD&lt;Integer&gt; rdd = sc.parallelize(fillToN(1000), 10);\n",
    "    System.out.println(rdd.partitions().size());\n",
    "    System.out.println(rdd.getNumPartitions());\n",
    "</pre>"
   ]
  },
  {
   "cell_type": "code",
   "execution_count": 37,
   "metadata": {
    "collapsed": false
   },
   "outputs": [
    {
     "name": "stdout",
     "output_type": "stream",
     "text": [
      "10\n"
     ]
    }
   ],
   "source": [
    "# 파이썬\n",
    "rdd = sc.parallelize(range(1, 100), 10)\n",
    "print(rdd.getNumPartitions())"
   ]
  },
  {
   "cell_type": "markdown",
   "metadata": {},
   "source": [
    "### 2.1.7 RDD 데이터 불러오기와 저장하기\n",
    "\n",
    "하둡 API를 기반으로 다양한 데이터 포멧과 파일 시스템을 지원.\n",
    "\n",
    "지원 파일 포멧 : JSON, 하둡 시퀀스파일, csv 등\n",
    "    \n",
    "지원 파일 시스템 : 하둡 파일시스템(HDFS), AWS의 S3, 오픈스택의 Swift등\n",
    "\n",
    "지원 데이터베이스 : MySQL, HBase, 카산드라, Hive등"
   ]
  },
  {
   "cell_type": "markdown",
   "metadata": {},
   "source": [
    "#### 2.1.7.1 텍스트 파일\n",
    "\n",
    "로컬 파일 시스템에 저장된 텍스트 파일로 RDD 생성.\n",
    "\n",
    "<pre>\n",
    "var rdd = sc.textFile(\"file:///data/sample.txt\")\n",
    "</pre>\n",
    "\n",
    "파일 시스템에 따라 접두사가 바뀜. (예 HDFS hdfs://, S3 s3n://)\n",
    "\n",
    "지정된 파일은 모든 서버에서 동일하게 접근 가능해야 함. 위의 예제는 모든 서버에 \"/data/sample.txt\" 경로로 파일 접근 가능해야 함.\n",
    "\n",
    "textFile 2번째 인자값으로 파티션 크기를 지정 가능. sc.textFile(path, 10) 10개의 파티션으로 구성된 RDD 생성.\n",
    "\n",
    "RDD의 내용을 텍스트 파일로 저장하고 불러오는 예제.\n",
    "\n",
    "스칼라\n",
    "<pre>\n",
    "    val rdd = sc.parallelize(1 to 1000, 3)\n",
    "    val codec = classOf[org.apache.hadoop.io.compress.GzipCodec]\n",
    "    // save\n",
    "    rdd.saveAsTextFile(\"&lt;path_to_save&gt;/sub1\")\n",
    "    // save(gzip)\n",
    "    rdd.saveAsTextFile(\"&lt;path_to_save&gt;/sub2\", codec)\n",
    "    // load\n",
    "    val rdd2 = sc.textFile(\"&lt;path_to_save&gt;/sub1\")\n",
    "    println(rdd2.take(10).toList)\n",
    "</pre>\n",
    "\n",
    "자바\n",
    "<pre>\n",
    "    JavaRDD&lt;Integer&gt; rdd = sc.parallelize(fillToN(1000), 3);\n",
    "    Class codec = org.apache.hadoop.io.compress.GzipCodec.class;\n",
    "    // save\n",
    "    rdd.saveAsTextFile(\"&lt;path_to_save&gt;/sub1\");\n",
    "    // save(gzip)\n",
    "    rdd.saveAsTextFile(\"&lt;path_to_save&gt;/sub2\", codec);\n",
    "    // load\n",
    "    JavaRDD&lt;String&gt; rdd2 = sc.textFile(\"&lt;path_to_save&gt;/sub1\");\n",
    "    System.out.println(rdd2.take(10));\n",
    "</pre>"
   ]
  },
  {
   "cell_type": "code",
   "execution_count": 38,
   "metadata": {
    "collapsed": false
   },
   "outputs": [
    {
     "name": "stdout",
     "output_type": "stream",
     "text": [
      "['1', '2', '3', '4', '5', '6', '7', '8', '9', '10']\n"
     ]
    }
   ],
   "source": [
    "# 파이썬\n",
    "rdd = sc.parallelize(range(1, 1000), 3)\n",
    "codec = \"org.apache.hadoop.io.compress.GzipCodec\"\n",
    "# save\n",
    "rdd.saveAsTextFile(\"sub1\")\n",
    "# save(gzip)\n",
    "rdd.saveAsTextFile(\"sub2\", codec)\n",
    "# load\n",
    "rdd2 = sc.textFile(\"sub1\")\n",
    "print(rdd2.take(10))"
   ]
  },
  {
   "cell_type": "code",
   "execution_count": 39,
   "metadata": {
    "collapsed": false
   },
   "outputs": [
    {
     "name": "stdout",
     "output_type": "stream",
     "text": [
      "sub1:\n",
      "total 56\n",
      "drwxr-xr-x  10 donglyeolsin  staff   340  9 23 23:46 .\n",
      "drwxr-xr-x  19 donglyeolsin  staff   646  9 23 23:46 ..\n",
      "-rw-r--r--   1 donglyeolsin  staff     8  9 23 23:46 ._SUCCESS.crc\n",
      "-rw-r--r--   1 donglyeolsin  staff    20  9 23 23:46 .part-00000.crc\n",
      "-rw-r--r--   1 donglyeolsin  staff    20  9 23 23:46 .part-00001.crc\n",
      "-rw-r--r--   1 donglyeolsin  staff    20  9 23 23:46 .part-00002.crc\n",
      "-rw-r--r--   1 donglyeolsin  staff     0  9 23 23:46 _SUCCESS\n",
      "-rw-r--r--   1 donglyeolsin  staff  1224  9 23 23:46 part-00000\n",
      "-rw-r--r--   1 donglyeolsin  staff  1332  9 23 23:46 part-00001\n",
      "-rw-r--r--   1 donglyeolsin  staff  1332  9 23 23:46 part-00002\n",
      "\n",
      "sub2:\n",
      "total 56\n",
      "drwxr-xr-x  10 donglyeolsin  staff  340  9 23 23:46 .\n",
      "drwxr-xr-x  19 donglyeolsin  staff  646  9 23 23:46 ..\n",
      "-rw-r--r--   1 donglyeolsin  staff    8  9 23 23:46 ._SUCCESS.crc\n",
      "-rw-r--r--   1 donglyeolsin  staff   16  9 23 23:46 .part-00000.gz.crc\n",
      "-rw-r--r--   1 donglyeolsin  staff   16  9 23 23:46 .part-00001.gz.crc\n",
      "-rw-r--r--   1 donglyeolsin  staff   16  9 23 23:46 .part-00002.gz.crc\n",
      "-rw-r--r--   1 donglyeolsin  staff    0  9 23 23:46 _SUCCESS\n",
      "-rw-r--r--   1 donglyeolsin  staff  596  9 23 23:46 part-00000.gz\n",
      "-rw-r--r--   1 donglyeolsin  staff  536  9 23 23:46 part-00001.gz\n",
      "-rw-r--r--   1 donglyeolsin  staff  536  9 23 23:46 part-00002.gz\n"
     ]
    }
   ],
   "source": [
    "%%sh\n",
    "# 디렉터리에 생성\n",
    "ls -al sub*"
   ]
  },
  {
   "cell_type": "code",
   "execution_count": 40,
   "metadata": {
    "collapsed": true
   },
   "outputs": [],
   "source": [
    "%%sh\n",
    "rm -rf sub1\n",
    "rm -rf sub2"
   ]
  },
  {
   "cell_type": "markdown",
   "metadata": {},
   "source": [
    "압축을 사용하려면 sub2방법처럼 압축 코덱 클래스를 사용.\n",
    "\n",
    "gzip(GzipCodec), Snappy(SnappyCodec), bzip2(BZip2Codec), LZO(Lz4Codec) 등 사용 가능.\n",
    "\n",
    "part-* 파일이 결과에 해당하는 파일. 여러 개의 파일을 나누면 병렬처리, 오류가 있더라도 전체 작업에 미치는 영향이 줄어둠."
   ]
  },
  {
   "cell_type": "markdown",
   "metadata": {},
   "source": [
    "#### 2.1.7.2 오브젝트 파일(Object File)\n",
    "\n",
    "objectFile() : 오브젝트 직렬화 방법을 이용해 RDD를 구성하는 요소를 파일로 읽는 기능을 수행.\n",
    "\n",
    "saveAsObjectFile() : 직렬화 방법으로 RDD를 구성하는 요소를 파일로 쓰는 기능을 수행.\n",
    "\n",
    "장점 : 언어 수준의 기본적으로 지원하는 기능을 이용. 간단하게 사용가능.\n",
    "\n",
    "단점 : 속도가 느리고 변경에 취약함.\n",
    "\n",
    "오브젝트를 이용해 RDD를 생성 및 저장하는 예제\n",
    "\n",
    "스칼라\n",
    "<pre>\n",
    "    val rdd = sc.parallelize(1 to 1000)\n",
    "    // save\n",
    "    rdd.saveAsObjectFile(\"&lt;path_to_save&gt;/sub_path\")\n",
    "    // load!\n",
    "    val rdd2 = sc.objectFile[Int](\"&lt;path_to_save&gt;/sub_path\")\n",
    "    println(rdd2.take(10).mkString(\", \"))\n",
    "</pre>\n",
    "\n",
    "자바\n",
    "<pre>\n",
    "    JavaRDD&lt;Integer&gt; rdd = sc.parallelize(fillToN(1000), 3);\n",
    "    // save\n",
    "    rdd.saveAsObjectFile(\"&lt;path_to_save&gt;/sub_path\");\n",
    "    // load\n",
    "    JavaRDD&lt;Integer&gt; rdd2 = sc.objectFile(\"&lt;path_to_save&gt;/sub_path\");\n",
    "    System.out.println(rdd2.take(10));\n",
    "</pre>"
   ]
  },
  {
   "cell_type": "code",
   "execution_count": 41,
   "metadata": {
    "collapsed": false
   },
   "outputs": [
    {
     "name": "stdout",
     "output_type": "stream",
     "text": [
      "[1, 2, 3, 4, 5, 6, 7, 8, 9, 10]\n"
     ]
    }
   ],
   "source": [
    "# 파이썬\n",
    "rdd = sc.parallelize(range(1, 1000), 3)\n",
    "# save\n",
    "rdd.saveAsPickleFile(\"object\")\n",
    "# load\n",
    "rdd2 = sc.pickleFile(\"object\")\n",
    "print(rdd2.take(10))"
   ]
  },
  {
   "cell_type": "code",
   "execution_count": 42,
   "metadata": {
    "collapsed": true
   },
   "outputs": [],
   "source": [
    "%%sh\n",
    "rm -rf object"
   ]
  },
  {
   "cell_type": "markdown",
   "metadata": {},
   "source": [
    "RDD 포함된 데이터를 오브젝트 파일로 다루려면\n",
    "\n",
    "* 자바나 스칼라는 RDD의 각 요소가 Serializable 인터페이스를 구현해야 함.\n",
    "* 파이썬은 pickle 라이브러리를 사용하는 saveAsPickleFile(), pickleFile() 메서드를 사용.\n",
    "* 타입이 RDD[Int]였다면 읽을 때도 타입이 같아야 함."
   ]
  },
  {
   "cell_type": "markdown",
   "metadata": {},
   "source": [
    "#### 2.1.7.3 시퀀스 파일\n",
    "\n",
    "키와 값으로 구성된 데이터를 저장하는 이진 파일 포멧. 하둡에서 자주 사용되는 대표적 파일 포맷.\n",
    "\n",
    "장점 : 대량의 데이터 처리에 적합한 분할 압축 기능. 효율적인 파일 관리.\n",
    "\n",
    "해당 RDD의 데이터는 하둡의 Writable 인터페이스를 구현해야 함.\n",
    "\n",
    "시퀀스 파일을 이용해 RDD를 저장하는 예제\n",
    "\n",
    "스칼라\n",
    "<pre>\n",
    "    val rdd = sc.parallelize(List(\"a\", \"b\", \"c\", \"b\", \"c\")).map((_, 1))\n",
    "\n",
    "    // save\n",
    "    rdd.saveAsSequenceFile(\"data/sample/saveAsSeqFile/scala\")\n",
    "\n",
    "    // load!\n",
    "    val rdd2 = sc.sequenceFile[String, Int](\"data/sample/saveAsSeqFile/scala\")\n",
    "    println(rdd2.collect.mkString(\", \"))\n",
    "</pre>\n",
    "\n",
    "자바\n",
    "<pre>\n",
    "    // 아래 경로는 실제 저장 경로로 변경하여 테스트\n",
    "    String path = \"data/sample/saveAsSeqFile/java\";\n",
    "\n",
    "    JavaRDD&lt;String&gt rdd1 = sc.parallelize(Arrays.asList(\"a\", \"b\", \"c\", \"b\", \"c\"));\n",
    "\n",
    "    // Writable로 변환 - Java7\n",
    "    JavaPairRDD&lt;Text, LongWritable&gt rdd2 = rdd1.mapToPair(new PairFunction&lt;String, Text, LongWritable&gt() {\n",
    "      @Override\n",
    "      public Tuple2&lt;Text, LongWritable&gt call(String v) throws Exception {\n",
    "        return new Tuple2&lt;Text, LongWritable&gt(new Text(v), new LongWritable(1));\n",
    "      }\n",
    "    });\n",
    "\n",
    "    // Writable로 변환 - Java8\n",
    "    JavaPairRDD&lt;Text, LongWritable&gt rdd2_1 = rdd1.mapToPair((String v) -&gt new Tuple2&lt;Text, LongWritable&gt(new Text(v), new LongWritable(1)));\n",
    "\n",
    "    // SequenceFile로 저장\n",
    "    rdd2.saveAsNewAPIHadoopFile(path, Text.class, LongWritable.class, SequenceFileOutputFormat.class);\n",
    "\n",
    "    // SequenceFile로 부터 RDD 생성\n",
    "    JavaPairRDD&lt;Text, LongWritable&gt rdd3 = sc.newAPIHadoopFile(path, SequenceFileInputFormat.class, Text.class, LongWritable.class, new Configuration());\n",
    "\n",
    "    // Writable을 String으로 변환 - Java7\n",
    "    JavaRDD&lt;String&gt rdd4 = rdd3.map(new Function&lt;Tuple2&lt;Text, LongWritable&gt, String&gt() {\n",
    "      @Override\n",
    "      public String call(Tuple2&lt;Text, LongWritable&gt v1) throws Exception {\n",
    "        return v1._1().toString() + v1._2;\n",
    "      }\n",
    "    });\n",
    "\n",
    "    // Writable을 String으로 변환 - Java8\n",
    "    JavaRDD&lt;String&gt rdd4_1 = rdd3.map((Tuple2&lt;Text, LongWritable&gt v1) -&gt v1._1().toString());\n",
    "\n",
    "    // 결과 출력\n",
    "    System.out.println(rdd4.collect());\n",
    "</pre>\n",
    "\n",
    "자바의 경우 시퀀스 파일만 다루는 메서드가 제공 안됨.\n",
    "\n",
    "RDD 데이터를 파일로 저장시 saveAsHadoopFile(), saveAsNewAPIHadoopFile() 메서드 사용 필요.\n",
    "\n",
    "RDD 데이터를 파일로 불러올 때 hadoopFile(), newAPIHadoopFile 메서드 사용 필요.\n",
    "\n",
    "Writable로 구성된 RDD는 직접 호출하면 직렬화 오류가 발생할 수 있음.\n",
    "\n",
    "map() 계열의 메서드를 통해 다른 오브젝트로 변환한 뒤 사용하는 걸 권장."
   ]
  },
  {
   "cell_type": "code",
   "execution_count": 43,
   "metadata": {
    "collapsed": false
   },
   "outputs": [
    {
     "name": "stdout",
     "output_type": "stream",
     "text": [
      "a 1\n",
      "b 1\n",
      "c 1\n",
      "b 1\n",
      "c 1\n"
     ]
    }
   ],
   "source": [
    "# 파이썬\n",
    "path = \"sequence\"\n",
    "\n",
    "outputFormatClass = \"org.apache.hadoop.mapreduce.lib.output.SequenceFileOutputFormat\"\n",
    "inputFormatClass = \"org.apache.hadoop.mapreduce.lib.input.SequenceFileInputFormat\"\n",
    "keyClass = \"org.apache.hadoop.io.Text\"\n",
    "valueClass = \"org.apache.hadoop.io.IntWritable\"\n",
    "conf = \"org.apache.hadoop.conf.Configuration\"\n",
    "rdd1 = sc.parallelize([\"a\", \"b\", \"c\", \"b\", \"c\"])\n",
    "rdd2 = rdd1.map(lambda x: (x, 1)) \n",
    "# save  \n",
    "rdd2.saveAsNewAPIHadoopFile(path, outputFormatClass, keyClass, valueClass)\n",
    "# load  \n",
    "rdd3 = sc.newAPIHadoopFile(path, inputFormatClass, keyClass, valueClass)\n",
    "for k, v in rdd3.collect():\n",
    "    print(k, v)"
   ]
  },
  {
   "cell_type": "code",
   "execution_count": 44,
   "metadata": {
    "collapsed": true
   },
   "outputs": [],
   "source": [
    "%%sh\n",
    "rm -rf sequence"
   ]
  },
  {
   "cell_type": "markdown",
   "metadata": {},
   "source": [
    "### 2.1.8 클러스터 환경에서의 공유변수\n",
    "\n",
    "다수의 프로세스가 공유할 수 있는 읽기 자원과 쓰기 자원을 설정.\n",
    "\n",
    "* 하둡 : 분산캐시, 카운터\n",
    "* 스파크 : 브로드캐스트 변수(Broadcast Variables), 어큐뮬레이터(Accumulators)"
   ]
  },
  {
   "cell_type": "markdown",
   "metadata": {},
   "source": [
    "#### 브로드캐스트 변수 \n",
    "\n",
    "클러스터 내 모든 서버에서 공유할 수 있는 읽기전용 자원을 설정할 수 있는 변수.\n",
    "\n",
    "##### 브로드캐스트 변수 설정방법\n",
    "\n",
    "1. 공유하고자 하는 데이터를 포함한 오브젝트 생성\n",
    "2. sc.broadcast()의 인자로 지정해 해당 메서드를 실행\n",
    "3. 2번에서 생성한 브로드캐스트 변수의 value() 메서드를 통해 접근 가능.\n",
    "\n",
    "브로드캐스트 변수를 rdd의 필터 메서드에 적용한 예제\n",
    "\n",
    "스칼라\n",
    "<pre>\n",
    "    val broadcastUsers = sc.broadcast(Set(\"u1\", \"u2\"))\n",
    "    val rdd = sc.parallelize(List(\"u1\", \"u3\", \"u3\", \"u4\", \"u5\", \"u6\"), 3)\n",
    "    val result = rdd.filter(broadcastUsers.value.contains(_))\n",
    "\n",
    "    println(result.collect.mkString(\",\"))\n",
    "</pre>\n",
    "\n",
    "자바\n",
    "<pre>\n",
    "    Broadcast&lt;Set&lt;String&gt;&gt; bu = sc.broadcast(new HashSet&lt;String&gt;(Arrays.asList(\"u1\", \"u2\")));\n",
    "    JavaRDD&lt;String&gt; rdd = sc.parallelize(Arrays.asList(\"u1\", \"u3\", \"u3\", \"u4\", \"u5\", \"u6\"), 3);\n",
    "\n",
    "    // Java7\n",
    "    JavaRDD&lt;String&gt; result = rdd.filter(new Function&lt;String, Boolean&gt;() { \n",
    "      @Override\n",
    "      public Boolean call(String v1) throws Exception {\n",
    "        return bu.value().contains(v1);\n",
    "      }\n",
    "    });\n",
    "    \n",
    "    // Java8\n",
    "    JavaRDD&lt;String&gt; result2 = rdd.filter((String v1) -&gt; bu.value().contains(v1));\n",
    "\n",
    "    System.out.println(result.collect());\n",
    "</pre>"
   ]
  },
  {
   "cell_type": "code",
   "execution_count": 45,
   "metadata": {
    "collapsed": false
   },
   "outputs": [
    {
     "name": "stdout",
     "output_type": "stream",
     "text": [
      "['u1']\n"
     ]
    }
   ],
   "source": [
    "bu = sc.broadcast(set([\"u1\", \"u2\"])) \n",
    "rdd = sc.parallelize([\"u1\", \"u3\", \"u3\", \"u4\", \"u5\", \"u6\"], 3)\n",
    "result = rdd.filter(lambda v: v in bu.value)\n",
    "print(result.collect())"
   ]
  },
  {
   "cell_type": "markdown",
   "metadata": {},
   "source": [
    "#### 어큐뮬레이터 : 쓰기 동작을 위한 것.\n",
    "\n",
    "클러스터 내의 모든 서버가 공유하는 쓰기 공간을 제공함.\n",
    "\n",
    "스파크에서 제공하는 공식 가이드(이전버전)\n",
    "\n",
    "https://goo.gl/frU3OK\n",
    "\n",
    "어큐뮬레이터 생성\n",
    "\n",
    "* org.apache.spark.util.AccumulatorV2 클래스를 상속받은 클래스를 정의. 이 클래스의 인스턴스를 생성.\n",
    "* 자바와 스칼라의 경우만 이 인스턴스를 sc.register() 메서드를 이용해 등록. 이름 지정 가능.\n",
    "<pre>\n",
    "var acc = sc.longAccumulator(\"invalidFormat\")\n",
    "</pre>\n",
    "\n",
    "스파크에서는 몇 가지 타입에 대한 어큐뮬레이터를 미리 정의해 놓았음.\n",
    "\n",
    "longAccumulator : long타입을 저장하기 위한 LongAccumulator를 생성하고 작업 환경에 등록하는 역할을 하는 메서드.\n",
    "\n",
    "정해진 형식에 맞지 않는 데이터 정보를 어큐뮬레이터로 찾는 예제\n",
    "\n",
    "스칼라\n",
    "<pre>\n",
    "    val acc1 = sc.longAccumulator(\"invalidFormat\")\n",
    "    val acc2 = sc.collectionAccumulator[String](\"invalidFormat2\")\n",
    "    val data = List(\"U1:Addr1\", \"U2:Addr2\", \"U3\", \"U4:Addr4\", \"U5;Addr5\", \"U6:Addr6\", \"U7::Addr7\")\n",
    "    sc.parallelize(data, 3).foreach { v =>\n",
    "      if (v.split(\":\").length != 2) {\n",
    "        acc1.add(1L)\n",
    "        acc2.add(v)\n",
    "      }\n",
    "    }\n",
    "    println(\"잘못된 데이터 수:\" + acc1.value)\n",
    "    println(\"잘못된 데이터:\" + acc2.value)\n",
    "</pre>\n",
    "\n",
    "자바\n",
    "<pre>\n",
    "    LongAccumulator acc1 = jsc.sc().longAccumulator(\"invalidFormat\");\n",
    "    CollectionAccumulator acc2 = jsc.sc().collectionAccumulator(\"invalidFormat2\");\n",
    "    List&lt;String&gt; data = Arrays.asList(\"U1:Addr1\", \"U2:Addr2\", \"U3\", \"U4:Addr4\", \"U5;Addr5\", \"U6:Addr6\", \"U7::Addr7\");\n",
    "    jsc.parallelize(data, 3).foreach(new VoidFunction&lt;String&gt;() {\n",
    "      @Override\n",
    "      public void call(String v) throws Exception {\n",
    "        if (v.split(\":\").length != 2) {\n",
    "          acc1.add(1L);\n",
    "          acc2.add(v);\n",
    "        }\n",
    "      }\n",
    "    });\n",
    "    System.out.println(\"잘못된 데이터 수:\" + acc1.value());\n",
    "    System.out.println(\"잘못된 데이터:\" + acc2.value());\n",
    "</pre>\n",
    "\n",
    "[결과]\n",
    "\n",
    "잘못된 데이터 수:3\n",
    "\n",
    "잘못된 데이터:[U3, U5;Addr5, U7::Addr7]\n",
    "\n",
    "foreach() 메서드를 호출해 규칙에 맞지 않는 문자의 개수와 그 내용을 어큐뮬레이터를 통해 집계."
   ]
  },
  {
   "cell_type": "code",
   "execution_count": 46,
   "metadata": {
    "collapsed": false
   },
   "outputs": [
    {
     "name": "stdout",
     "output_type": "stream",
     "text": [
      "3\n"
     ]
    }
   ],
   "source": [
    "# 파이썬\n",
    "def accumulate(v, acc):\n",
    "    if(len(v.split(\":\")) != 2):\n",
    "        acc.add(1)\n",
    "\n",
    "acc1 = sc.accumulator(0)\n",
    "data = [\"U1:Addr1\", \"U2:Addr2\", \"U3\", \"U4:Addr4\", \"U5;Addr5\", \"U6:Addr6\", \"U7::Addr7\"]\n",
    "rdd = sc.parallelize(data)\n",
    "rdd.foreach(lambda v: accumulate(v, acc1))\n",
    "print(acc1.value)"
   ]
  },
  {
   "cell_type": "markdown",
   "metadata": {},
   "source": [
    "파이썬의 경우 sc.accumulator()를 이용해 원하는 어큐뮬레이터를 생성함.\n",
    "\n",
    "초기값은 정수, 실수, 복소수 중의 한 타입. 다른 타입이면 스파르가 제공하는 기본 어큐뮬레이터는 사용 불가."
   ]
  },
  {
   "cell_type": "markdown",
   "metadata": {},
   "source": [
    "##### 사용자 정의 데이터 타입에 대한 어큐뮬레이터 예제\n",
    "\n",
    "스칼라\n",
    "<pre>\n",
    "class RecordAccumulator extends AccumulatorV2[Record, Long] {\n",
    "\n",
    "  private var _record = Record(0)\n",
    "\n",
    "  // 초기값 여부\n",
    "  def isZero: Boolean = _record.amount == 0 && _record.number == 1\n",
    "\n",
    "  // 동일한 값을 가진 새로운 어큐뮬레이터 생성\n",
    "  def copy(): AccumulatorV2[Record, Long] = {\n",
    "    val newAcc = new RecordAccumulator\n",
    "    newAcc._record = Record(_record.amount, _record.number)\n",
    "    newAcc\n",
    "  }\n",
    "\n",
    "  // 어큐뮬레이터에 포함된 데이터 값을 초기화\n",
    "  def reset(): Unit = {\n",
    "    _record.amount = 0L\n",
    "    _record.number = 1L\n",
    "  }\n",
    "\n",
    "  // 다른 데이터 병합\n",
    "  def add(other: Record): Unit = {\n",
    "    _record.add(other)\n",
    "  }\n",
    "\n",
    "  // 다른 어큐뮬레이터 병합\n",
    "  def merge(other: AccumulatorV2[Record, Long]): Unit = other match {\n",
    "    case o: RecordAccumulator => _record.add(o._record);\n",
    "    case _                    => throw new RuntimeException\n",
    "  }\n",
    "\n",
    "  // 최종 결과(AccumulatorV2의 출력 타입과 같아야 함)\n",
    "  def value: Long = {\n",
    "    _record.amount\n",
    "  }\n",
    "}\n",
    "</pre>\n",
    "\n",
    "자체 어큐뮬레이터를 정의하려면 AccumulatorV2 추상클래스를 상속받고 필요한 메서드를 정의해야 함.\n",
    "\n",
    "isZero() : RecordAccumulator에 포함된 값이 초기값에 해당하는지 여부를 확인. 초기값이면 True 아니면 False.\n",
    "\n",
    "sc.register() 메서드로 어큐뮬레이터 등록.\n",
    "\n",
    "<pre>\n",
    "    val acc = new RecordAccumulator\n",
    "    sc.register(acc, \"invalidFormat\")\n",
    "    val data = List(\"U1:Addr1\", \"U2:Addr2\", \"U3\", \"U4:Addr4\", \"U5;Addr5\", \"U6:Addr6\", \"U7::Addr7\")\n",
    "    sc.parallelize(data, 2).foreach { v =>\n",
    "      if (v.split(\":\").length != 2) {\n",
    "        acc.add(Record(1))\n",
    "      }\n",
    "    }\n",
    "    println(\"잘못된 데이터 수:\" + acc.value)\n",
    "</pre>\n",
    "\n",
    "오류가 발생했을 때 Record타입의 데이터를 사용한 것이 차이점."
   ]
  },
  {
   "cell_type": "markdown",
   "metadata": {},
   "source": [
    "자바를 사용하는 경우 예제\n",
    "<pre>\n",
    "class RecordAccumulator extends AccumulatorV2&lt;Record, Long&gt; {\n",
    "  private static final long serialVersionUID = 1L;\n",
    "\n",
    "  private Record _record = new Record(0L);\n",
    "\n",
    "  @Override\n",
    "  public boolean isZero() {\n",
    "    return _record.amount == 0L && _record.number == 1L;\n",
    "  }\n",
    "\n",
    "  @Override\n",
    "  public AccumulatorV2&lt;Record, Long&gt; copy() {\n",
    "    RecordAccumulator newAcc = new RecordAccumulator();\n",
    "    newAcc._record = new Record(_record.amount, _record.number);\n",
    "    return newAcc;\n",
    "  }\n",
    "\n",
    "  @Override\n",
    "  public void reset() {\n",
    "    _record.amount = 0L;\n",
    "    _record.number = 1L;\n",
    "  }\n",
    "\n",
    "  @Override\n",
    "  public void add(Record other) {\n",
    "    _record.add(other);\n",
    "  }\n",
    "\n",
    "  @Override\n",
    "  public void merge(AccumulatorV2&lt;Record, Long&gt; otherAcc) {\n",
    "    try {\n",
    "      Record other = ((RecordAccumulator) otherAcc)._record;\n",
    "      _record.add(other);\n",
    "    } catch (Exception e) {\n",
    "      throw new RuntimeException();\n",
    "    }\n",
    "  }\n",
    "\n",
    "  @Override\n",
    "  public Long value() {\n",
    "    return _record.amount;\n",
    "  }\n",
    "}\n",
    "</pre>\n",
    "\n",
    "문자열 오류를 찾아내는 코드\n",
    "<pre>\n",
    "    RecordAccumulator acc = new RecordAccumulator();\n",
    "    jsc.sc().register(acc, \"invalidFormat\");\n",
    "    List&lt;String&gt; data = Arrays.asList(\"U1:Addr1\", \"U2:Addr2\", \"U3\", \"U4:Addr4\", \"U5;Addr5\", \"U6:Addr6\", \"U7::Addr7\");\n",
    "    jsc.parallelize(data, 3).foreach(new VoidFunction&lt;String&gt;() {\n",
    "      @Override\n",
    "      public void call(String v) throws Exception {\n",
    "        if (v.split(\":\").length != 2) {\n",
    "          acc.add(new Record(1L));\n",
    "        }\n",
    "      }\n",
    "    });\n",
    "    System.out.println(\"잘못된 데이터 수:\" + acc.value());\n",
    "</pre>"
   ]
  },
  {
   "cell_type": "code",
   "execution_count": 47,
   "metadata": {
    "collapsed": true
   },
   "outputs": [],
   "source": [
    "# 파이썬 - 다음 소스는 jupyter notebook에서 바로 실행 불가.\n",
    "accumulator_py=\"\"\"from pyspark import AccumulatorParam\n",
    "from record import *\n",
    "\n",
    "class RecordAccumulatorParam(AccumulatorParam):\n",
    "    def zero(self, initialValue):\n",
    "        return Record(0)\n",
    "\n",
    "    def addInPlace(self, v1, v2):\n",
    "        if (isinstance(v2, Record)):\n",
    "            return v1 + v2\n",
    "        else:\n",
    "            return v1.addAmt(v2)\"\"\""
   ]
  },
  {
   "cell_type": "markdown",
   "metadata": {},
   "source": [
    "파이썬의 경우 AccumulatorParam을 상속받아 사용."
   ]
  },
  {
   "cell_type": "code",
   "execution_count": 48,
   "metadata": {
    "collapsed": true
   },
   "outputs": [],
   "source": [
    "src = \"\"\"import pyspark\n",
    "from record import *\n",
    "from accumulator import *\n",
    "\n",
    "sc = pyspark.SparkContext()\n",
    "\n",
    "def accumulate(v, acc):\n",
    "    if (len(v.split(\":\")) != 2):\n",
    "        acc.add(1)\n",
    "\n",
    "acc = sc.accumulator(Record(0), RecordAccumulatorParam())\n",
    "data = [\"U1:Addr1\", \"U2:Addr2\", \"U3\", \"U4:Addr4\", \"U5;Addr5\", \"U6:Addr6\", \"U7::Addr7\"]\n",
    "rdd = sc.parallelize(data)\n",
    "rdd.foreach(lambda v: accumulate(v, acc))\n",
    "print(acc.value.amount)\n",
    "\"\"\"\n",
    "\n",
    "with open('record.py', 'w') as f:\n",
    "    f.write(record_py)\n",
    "with open('accumulator.py', 'w') as f:\n",
    "    f.write(accumulator_py)\n",
    "with open('job.py', 'w') as f:\n",
    "    f.write(src)"
   ]
  },
  {
   "cell_type": "code",
   "execution_count": 49,
   "metadata": {
    "collapsed": false
   },
   "outputs": [
    {
     "name": "stdout",
     "output_type": "stream",
     "text": [
      "3\n"
     ]
    }
   ],
   "source": [
    "%%bash\n",
    "python job.py 2>/dev/null"
   ]
  },
  {
   "cell_type": "code",
   "execution_count": 50,
   "metadata": {
    "collapsed": true
   },
   "outputs": [],
   "source": [
    "os.remove('record.py')\n",
    "os.remove('accumulator.py')\n",
    "os.remove('job.py')"
   ]
  },
  {
   "cell_type": "markdown",
   "metadata": {},
   "source": [
    "파이썬의 경우 sc.accumulator() 메서드로만 사용자 정의 데이터 타입을 위한 어큐뮬레이터 생성.\n",
    "\n",
    "두 번째 인자로 RecordAccumulatorParam()을 사용함."
   ]
  },
  {
   "cell_type": "markdown",
   "metadata": {},
   "source": [
    "어큐뮬레이터를 증가시키는 동작은 클러스터의 모든 데이터 처리 프로세서에서 가능.\n",
    "\n",
    "읽는 동작은 드라이버 프로그램 내에서만 가능.\n",
    "\n",
    "특별한 목적이 없는 한 액션 연산을 수행하는 메서드에서만 사용해야 함.\n",
    "\n",
    "=> 트랜스포메이션 연산에서는 어큐뮬레이터를 여러 번 실행할 수 있어 정확하지 않는 데이터가 수집될 수 있음."
   ]
  },
  {
   "cell_type": "markdown",
   "metadata": {},
   "source": [
    "## 2.2 정리\n",
    "\n",
    "RDD : 스파크에서 다루는 데이터에 대한 추상 모델. 데이터가 누락되거나 유실되지 않게 하는 에러 복구 메커니즘을 갖춤.\n",
    "\n",
    "데이터 처리 시 자주 사용되는 연산을 수행하는 다양한 API를 제공.\n",
    "\n",
    "데이터 모델\n",
    "\n",
    "* 데이터셋(DataSet)\n",
    "* 데이터프레임(DataFrame)"
   ]
  }
 ],
 "metadata": {
  "anaconda-cloud": {},
  "kernelspec": {
   "display_name": "Python [Root]",
   "language": "python",
   "name": "Python [Root]"
  },
  "language_info": {
   "codemirror_mode": {
    "name": "ipython",
    "version": 3
   },
   "file_extension": ".py",
   "mimetype": "text/x-python",
   "name": "python",
   "nbconvert_exporter": "python",
   "pygments_lexer": "ipython3",
   "version": "3.5.2"
  }
 },
 "nbformat": 4,
 "nbformat_minor": 0
}
