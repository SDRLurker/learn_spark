{
 "cells": [
  {
   "cell_type": "markdown",
   "metadata": {},
   "source": [
    "# 목차\n",
    "\n",
    "## 1장\n",
    "\n",
    "http://nbviewer.jupyter.org/github/SDRLurker/learn_spark/blob/master/1장%20스파크%20소개.ipynb\n",
    "\n",
    "## 2장\n",
    "\n",
    "http://nbviewer.jupyter.org/github/SDRLurker/learn_spark/blob/master/2장%20RDD%20-%201부.ipynb\n",
    "\n",
    "http://nbviewer.jupyter.org/github/SDRLurker/learn_spark/blob/master/2장%20RDD%20-%202부.ipynb"
   ]
  }
 ],
 "metadata": {
  "kernelspec": {
   "display_name": "Python [Root]",
   "language": "python",
   "name": "Python [Root]"
  },
  "language_info": {
   "codemirror_mode": {
    "name": "ipython",
    "version": 3
   },
   "file_extension": ".py",
   "mimetype": "text/x-python",
   "name": "python",
   "nbconvert_exporter": "python",
   "pygments_lexer": "ipython3",
   "version": "3.5.2"
  }
 },
 "nbformat": 4,
 "nbformat_minor": 0
}
